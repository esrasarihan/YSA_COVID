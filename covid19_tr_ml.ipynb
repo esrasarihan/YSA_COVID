{
 "cells": [
  {
   "cell_type": "markdown",
   "metadata": {},
   "source": [
    "# COVI19 Turkey Data\n",
    "\n"
   ]
  },
  {
   "cell_type": "code",
   "execution_count": 67,
   "metadata": {},
   "outputs": [],
   "source": [
    "import pandas as pd\n",
    "import numpy as np\n",
    "import matplotlib.pyplot as plt\n",
    "from seaborn import heatmap\n",
    "from sklearn.model_selection import train_test_split\n",
    "from sklearn.linear_model import LinearRegression\n",
    "from sklearn.svm import SVR\n",
    "from sklearn.metrics import mean_squared_error, r2_score\n",
    "from sklearn.preprocessing import MinMaxScaler\n",
    "from sklearn.neural_network import MLPRegressor\n",
    "from scipy.spatial import distance  # Ekledik\n",
    "from joblib import dump, load  # Ekledik\n",
    "import os\n"
   ]
  },
  {
   "cell_type": "code",
   "execution_count": 68,
   "metadata": {},
   "outputs": [],
   "source": [
    "plt.style.use('ggplot')"
   ]
  },
  {
   "cell_type": "code",
   "execution_count": 69,
   "metadata": {},
   "outputs": [],
   "source": [
    "# Dosyayı okuma\n",
    "dosya_yolu = r\"C:\\Users\\esras\\Desktop\\covid\\tr_covid_en.csv\"\n",
    "dataset = pd.read_csv(dosya_yolu, sep=';', index_col=0)\n",
    "dataset.index = pd.to_datetime(dataset.index, format='%d.%m.%Y')\n",
    "output_folder = r\"C:\\Users\\esras\\Desktop\\covid\\outputs\"\n",
    "if not os.path.exists(output_folder):\n",
    "    os.makedirs(output_folder)\n",
    "    "
   ]
  },
  {
   "cell_type": "code",
   "execution_count": 70,
   "metadata": {},
   "outputs": [],
   "source": [
    "for col in dataset.columns.tolist():\n",
    "    plt.figure(figsize=(10, 6))\n",
    "    x_axis = dataset.index.values\n",
    "    y_axis = dataset[col].values\n",
    "    plt.plot(x_axis, y_axis, label=col, marker='o')\n",
    "    plt.title(col)\n",
    "    plt.xlabel(\"Day\")\n",
    "    plt.ylabel(\"Number of people\")\n",
    "    plt.xticks(pd.date_range(dataset.index.values[0], dataset.index.values[-1], freq='W'), rotation=90)\n",
    "    counter = 0\n",
    "    for j, k in zip(x_axis, y_axis):\n",
    "        counter += 1\n",
    "        if not counter % 7:\n",
    "            plt.annotate(str(k), xy=(j, k))\n",
    "    plt.savefig(os.path.join(output_folder, \"{}.png\".format(col)))\n",
    "    plt.close()"
   ]
  },
  {
   "cell_type": "code",
   "execution_count": null,
   "metadata": {},
   "outputs": [],
   "source": []
  },
  {
   "cell_type": "code",
   "execution_count": 71,
   "metadata": {},
   "outputs": [],
   "source": [
    "X = dataset[['num_tests', 'num_deaths']]  # Özellikler\n",
    "y = dataset[['total_intensive_care', 'total_intubated']]  # Hedef değişken\n"
   ]
  },
  {
   "cell_type": "code",
   "execution_count": 108,
   "metadata": {},
   "outputs": [],
   "source": [
    "X_train, X_test, y_train_scaled, y_test_scaled = train_test_split(X_scaled, y_scaled, test_size=0.2, shuffle=False, random_state=42)\n"
   ]
  },
  {
   "cell_type": "code",
   "execution_count": 109,
   "metadata": {},
   "outputs": [],
   "source": [
    "scaler = MinMaxScaler()\n",
    "X_train_scaled = scaler.fit_transform(X_train)\n",
    "X_test_scaled = scaler.transform(X_test)\n"
   ]
  },
  {
   "cell_type": "code",
   "execution_count": 110,
   "metadata": {},
   "outputs": [],
   "source": [
    "scaler = MinMaxScaler()\n",
    "X_scaled = scaler.fit_transform(X)\n",
    "y_scaled = scaler.fit_transform(y)\n"
   ]
  },
  {
   "cell_type": "code",
   "execution_count": null,
   "metadata": {},
   "outputs": [],
   "source": []
  },
  {
   "cell_type": "code",
   "execution_count": 111,
   "metadata": {},
   "outputs": [],
   "source": [
    "# Model performansının değerlendirilmesi\n",
    "lr = LinearRegression()\n",
    "lr.fit(X_train_scaled, y_train)\n",
    "y_predicted_lr = lr.predict(X_test_scaled)"
   ]
  },
  {
   "cell_type": "code",
   "execution_count": 112,
   "metadata": {},
   "outputs": [
    {
     "name": "stdout",
     "output_type": "stream",
     "text": [
      "Linear Regression Performance:\n",
      "Mean Squared Error: 393238.60470070865\n",
      "R-squared: -0.02991383856370189\n"
     ]
    }
   ],
   "source": [
    "print(\"Linear Regression Performance:\")\n",
    "print(\"Mean Squared Error:\", mean_squared_error(y_test, y_predicted_lr))\n",
    "print(\"R-squared:\", r2_score(y_test, y_predicted_lr))"
   ]
  },
  {
   "cell_type": "code",
   "execution_count": 113,
   "metadata": {},
   "outputs": [
    {
     "name": "stdout",
     "output_type": "stream",
     "text": [
      "Mean Squared Error: 0.00545122621311585\n",
      "R2 Score: 0.9619569390759679\n"
     ]
    }
   ],
   "source": [
    "\n",
    "# MLP modelini tanımlama\n",
    "mlp = MLPRegressor(hidden_layer_sizes=(75), max_iter=2000, learning_rate_init=0.1, random_state=42)\n",
    "\n",
    "# Modeli eğitme\n",
    "mlp.fit(X_scaled, y_scaled)\n",
    "\n",
    "# Tahmin yapma\n",
    "y_predicted_mlp = mlp.predict(X_scaled)\n",
    "\n",
    "# Model değerlendirmesi\n",
    "mse = mean_squared_error(y_scaled, y_predicted_mlp)\n",
    "r2 = r2_score(y_scaled, y_predicted_mlp)\n",
    "\n",
    "print(\"Mean Squared Error:\", mse)\n",
    "print(\"R2 Score:\", r2)"
   ]
  },
  {
   "cell_type": "code",
   "execution_count": 114,
   "metadata": {},
   "outputs": [],
   "source": [
    "dataset_scaled = scaler.fit_transform(dataset)\n",
    "dataset_scaled = pd.DataFrame(dataset_scaled, columns=dataset.columns)"
   ]
  },
  {
   "cell_type": "code",
   "execution_count": 115,
   "metadata": {},
   "outputs": [],
   "source": [
    "dataset_shifted = dataset.iloc[9:,:]\n",
    "\n",
    "dataset_scaled.corr()\n",
    "corr = dataset_shifted.corr()"
   ]
  },
  {
   "cell_type": "code",
   "execution_count": 116,
   "metadata": {},
   "outputs": [],
   "source": [
    "  # ilk 8 günün verisi öngörülebilir olmadığı için öteleyelim\n",
    "dataset_shifted = dataset.iloc[9:,:]\n",
    "dataset_shifted.head()\n",
    "\n",
    "corr = dataset_shifted.corr()\n"
   ]
  },
  {
   "cell_type": "code",
   "execution_count": 117,
   "metadata": {},
   "outputs": [
    {
     "data": {
      "text/html": [
       "<div>\n",
       "<style scoped>\n",
       "    .dataframe tbody tr th:only-of-type {\n",
       "        vertical-align: middle;\n",
       "    }\n",
       "\n",
       "    .dataframe tbody tr th {\n",
       "        vertical-align: top;\n",
       "    }\n",
       "\n",
       "    .dataframe thead th {\n",
       "        text-align: right;\n",
       "    }\n",
       "</style>\n",
       "<table border=\"1\" class=\"dataframe\">\n",
       "  <thead>\n",
       "    <tr style=\"text-align: right;\">\n",
       "      <th></th>\n",
       "      <th>num_tests</th>\n",
       "      <th>num_case</th>\n",
       "      <th>total_intensive_care</th>\n",
       "      <th>total_intubated</th>\n",
       "      <th>num_recovered</th>\n",
       "      <th>num_deaths</th>\n",
       "    </tr>\n",
       "  </thead>\n",
       "  <tbody>\n",
       "    <tr>\n",
       "      <th>count</th>\n",
       "      <td>33.000000</td>\n",
       "      <td>33.000000</td>\n",
       "      <td>33.000000</td>\n",
       "      <td>33.000000</td>\n",
       "      <td>33.000000</td>\n",
       "      <td>33.000000</td>\n",
       "    </tr>\n",
       "    <tr>\n",
       "      <th>mean</th>\n",
       "      <td>21255.484848</td>\n",
       "      <td>2890.878788</td>\n",
       "      <td>1107.484848</td>\n",
       "      <td>687.303030</td>\n",
       "      <td>452.848485</td>\n",
       "      <td>68.363636</td>\n",
       "    </tr>\n",
       "    <tr>\n",
       "      <th>std</th>\n",
       "      <td>13421.055955</td>\n",
       "      <td>1595.323728</td>\n",
       "      <td>724.413518</td>\n",
       "      <td>424.414559</td>\n",
       "      <td>571.175275</td>\n",
       "      <td>43.126136</td>\n",
       "    </tr>\n",
       "    <tr>\n",
       "      <th>min</th>\n",
       "      <td>1758.000000</td>\n",
       "      <td>167.000000</td>\n",
       "      <td>0.000000</td>\n",
       "      <td>0.000000</td>\n",
       "      <td>0.000000</td>\n",
       "      <td>1.000000</td>\n",
       "    </tr>\n",
       "    <tr>\n",
       "      <th>25%</th>\n",
       "      <td>7641.000000</td>\n",
       "      <td>1704.000000</td>\n",
       "      <td>445.000000</td>\n",
       "      <td>309.000000</td>\n",
       "      <td>28.000000</td>\n",
       "      <td>21.000000</td>\n",
       "    </tr>\n",
       "    <tr>\n",
       "      <th>50%</th>\n",
       "      <td>20023.000000</td>\n",
       "      <td>3135.000000</td>\n",
       "      <td>1381.000000</td>\n",
       "      <td>935.000000</td>\n",
       "      <td>256.000000</td>\n",
       "      <td>76.000000</td>\n",
       "    </tr>\n",
       "    <tr>\n",
       "      <th>75%</th>\n",
       "      <td>34090.000000</td>\n",
       "      <td>4117.000000</td>\n",
       "      <td>1786.000000</td>\n",
       "      <td>1021.000000</td>\n",
       "      <td>542.000000</td>\n",
       "      <td>98.000000</td>\n",
       "    </tr>\n",
       "    <tr>\n",
       "      <th>max</th>\n",
       "      <td>40520.000000</td>\n",
       "      <td>5138.000000</td>\n",
       "      <td>1922.000000</td>\n",
       "      <td>1087.000000</td>\n",
       "      <td>1822.000000</td>\n",
       "      <td>127.000000</td>\n",
       "    </tr>\n",
       "  </tbody>\n",
       "</table>\n",
       "</div>"
      ],
      "text/plain": [
       "          num_tests     num_case  total_intensive_care  total_intubated  \\\n",
       "count     33.000000    33.000000             33.000000        33.000000   \n",
       "mean   21255.484848  2890.878788           1107.484848       687.303030   \n",
       "std    13421.055955  1595.323728            724.413518       424.414559   \n",
       "min     1758.000000   167.000000              0.000000         0.000000   \n",
       "25%     7641.000000  1704.000000            445.000000       309.000000   \n",
       "50%    20023.000000  3135.000000           1381.000000       935.000000   \n",
       "75%    34090.000000  4117.000000           1786.000000      1021.000000   \n",
       "max    40520.000000  5138.000000           1922.000000      1087.000000   \n",
       "\n",
       "       num_recovered  num_deaths  \n",
       "count      33.000000   33.000000  \n",
       "mean      452.848485   68.363636  \n",
       "std       571.175275   43.126136  \n",
       "min         0.000000    1.000000  \n",
       "25%        28.000000   21.000000  \n",
       "50%       256.000000   76.000000  \n",
       "75%       542.000000   98.000000  \n",
       "max      1822.000000  127.000000  "
      ]
     },
     "execution_count": 117,
     "metadata": {},
     "output_type": "execute_result"
    }
   ],
   "source": [
    "# About Data.\n",
    "dataset_shifted.describe()"
   ]
  },
  {
   "cell_type": "code",
   "execution_count": 118,
   "metadata": {},
   "outputs": [],
   "source": [
    "dataset_scaled = pd.DataFrame(scaler.fit_transform(dataset_shifted))"
   ]
  },
  {
   "cell_type": "code",
   "execution_count": 119,
   "metadata": {},
   "outputs": [
    {
     "data": {
      "text/plain": [
       "<Axes: >"
      ]
     },
     "execution_count": 119,
     "metadata": {},
     "output_type": "execute_result"
    },
    {
     "data": {
      "image/png": "[encoded data removed]",
      "text/plain": [
       "<Figure size 640x480 with 2 Axes>"
      ]
     },
     "metadata": {},
     "output_type": "display_data"
    }
   ],
   "source": [
    "heatmap(corr,\n",
    "        xticklabels=dataset_shifted.columns,\n",
    "        yticklabels=dataset_shifted.columns)"
   ]
  },
  {
   "cell_type": "markdown",
   "metadata": {},
   "source": [
    "num_case ile num_recovered girdi değişkeni, num_intube, num_yogun_bakim ise çıktı değişkeni olarak alınmıştır."
   ]
  },
  {
   "cell_type": "code",
   "execution_count": 120,
   "metadata": {},
   "outputs": [],
   "source": [
    "X = dataset_scaled.iloc[:, [1,4]]\n",
    "y = dataset_scaled.iloc[:,[2,3]]"
   ]
  },
  {
   "cell_type": "code",
   "execution_count": 121,
   "metadata": {
    "scrolled": true
   },
   "outputs": [
    {
     "data": {
      "text/html": [
       "<div>\n",
       "<style scoped>\n",
       "    .dataframe tbody tr th:only-of-type {\n",
       "        vertical-align: middle;\n",
       "    }\n",
       "\n",
       "    .dataframe tbody tr th {\n",
       "        vertical-align: top;\n",
       "    }\n",
       "\n",
       "    .dataframe thead th {\n",
       "        text-align: right;\n",
       "    }\n",
       "</style>\n",
       "<table border=\"1\" class=\"dataframe\">\n",
       "  <thead>\n",
       "    <tr style=\"text-align: right;\">\n",
       "      <th></th>\n",
       "      <th>1</th>\n",
       "      <th>4</th>\n",
       "    </tr>\n",
       "  </thead>\n",
       "  <tbody>\n",
       "    <tr>\n",
       "      <th>0</th>\n",
       "      <td>0.000000</td>\n",
       "      <td>0.000000</td>\n",
       "    </tr>\n",
       "    <tr>\n",
       "      <th>1</th>\n",
       "      <td>0.028968</td>\n",
       "      <td>0.000000</td>\n",
       "    </tr>\n",
       "    <tr>\n",
       "      <th>2</th>\n",
       "      <td>0.080266</td>\n",
       "      <td>0.000000</td>\n",
       "    </tr>\n",
       "    <tr>\n",
       "      <th>3</th>\n",
       "      <td>0.025347</td>\n",
       "      <td>0.000000</td>\n",
       "    </tr>\n",
       "    <tr>\n",
       "      <th>4</th>\n",
       "      <td>0.035405</td>\n",
       "      <td>0.000000</td>\n",
       "    </tr>\n",
       "    <tr>\n",
       "      <th>5</th>\n",
       "      <td>0.079260</td>\n",
       "      <td>0.014270</td>\n",
       "    </tr>\n",
       "    <tr>\n",
       "      <th>6</th>\n",
       "      <td>0.207001</td>\n",
       "      <td>0.000000</td>\n",
       "    </tr>\n",
       "    <tr>\n",
       "      <th>7</th>\n",
       "      <td>0.382619</td>\n",
       "      <td>0.008782</td>\n",
       "    </tr>\n",
       "    <tr>\n",
       "      <th>8</th>\n",
       "      <td>0.309193</td>\n",
       "      <td>0.015368</td>\n",
       "    </tr>\n",
       "    <tr>\n",
       "      <th>9</th>\n",
       "      <td>0.331523</td>\n",
       "      <td>0.019210</td>\n",
       "    </tr>\n",
       "    <tr>\n",
       "      <th>10</th>\n",
       "      <td>0.290284</td>\n",
       "      <td>0.031284</td>\n",
       "    </tr>\n",
       "    <tr>\n",
       "      <th>11</th>\n",
       "      <td>0.510360</td>\n",
       "      <td>0.044457</td>\n",
       "    </tr>\n",
       "    <tr>\n",
       "      <th>12</th>\n",
       "      <td>0.398511</td>\n",
       "      <td>0.049396</td>\n",
       "    </tr>\n",
       "    <tr>\n",
       "      <th>13</th>\n",
       "      <td>0.460471</td>\n",
       "      <td>0.045005</td>\n",
       "    </tr>\n",
       "    <tr>\n",
       "      <th>14</th>\n",
       "      <td>0.526856</td>\n",
       "      <td>0.037870</td>\n",
       "    </tr>\n",
       "    <tr>\n",
       "      <th>15</th>\n",
       "      <td>0.572521</td>\n",
       "      <td>0.165752</td>\n",
       "    </tr>\n",
       "    <tr>\n",
       "      <th>16</th>\n",
       "      <td>0.597063</td>\n",
       "      <td>0.140505</td>\n",
       "    </tr>\n",
       "    <tr>\n",
       "      <th>17</th>\n",
       "      <td>0.599678</td>\n",
       "      <td>0.155873</td>\n",
       "    </tr>\n",
       "    <tr>\n",
       "      <th>18</th>\n",
       "      <td>0.749346</td>\n",
       "      <td>0.140505</td>\n",
       "    </tr>\n",
       "    <tr>\n",
       "      <th>19</th>\n",
       "      <td>0.794609</td>\n",
       "      <td>0.144896</td>\n",
       "    </tr>\n",
       "    <tr>\n",
       "      <th>20</th>\n",
       "      <td>0.782338</td>\n",
       "      <td>0.162459</td>\n",
       "    </tr>\n",
       "    <tr>\n",
       "      <th>21</th>\n",
       "      <td>0.921344</td>\n",
       "      <td>0.154226</td>\n",
       "    </tr>\n",
       "    <tr>\n",
       "      <th>22</th>\n",
       "      <td>1.000000</td>\n",
       "      <td>0.297475</td>\n",
       "    </tr>\n",
       "    <tr>\n",
       "      <th>23</th>\n",
       "      <td>0.929793</td>\n",
       "      <td>0.263996</td>\n",
       "    </tr>\n",
       "    <tr>\n",
       "      <th>24</th>\n",
       "      <td>0.789781</td>\n",
       "      <td>0.294731</td>\n",
       "    </tr>\n",
       "    <tr>\n",
       "      <th>25</th>\n",
       "      <td>0.783545</td>\n",
       "      <td>0.462130</td>\n",
       "    </tr>\n",
       "    <tr>\n",
       "      <th>26</th>\n",
       "      <td>0.827600</td>\n",
       "      <td>0.480241</td>\n",
       "    </tr>\n",
       "    <tr>\n",
       "      <th>27</th>\n",
       "      <td>0.932207</td>\n",
       "      <td>0.776619</td>\n",
       "    </tr>\n",
       "    <tr>\n",
       "      <th>28</th>\n",
       "      <td>0.842084</td>\n",
       "      <td>0.846323</td>\n",
       "    </tr>\n",
       "    <tr>\n",
       "      <th>29</th>\n",
       "      <td>0.727419</td>\n",
       "      <td>1.000000</td>\n",
       "    </tr>\n",
       "    <tr>\n",
       "      <th>30</th>\n",
       "      <td>0.766445</td>\n",
       "      <td>0.835895</td>\n",
       "    </tr>\n",
       "    <tr>\n",
       "      <th>31</th>\n",
       "      <td>0.906659</td>\n",
       "      <td>0.798024</td>\n",
       "    </tr>\n",
       "    <tr>\n",
       "      <th>32</th>\n",
       "      <td>0.893985</td>\n",
       "      <td>0.816685</td>\n",
       "    </tr>\n",
       "  </tbody>\n",
       "</table>\n",
       "</div>"
      ],
      "text/plain": [
       "           1         4\n",
       "0   0.000000  0.000000\n",
       "1   0.028968  0.000000\n",
       "2   0.080266  0.000000\n",
       "3   0.025347  0.000000\n",
       "4   0.035405  0.000000\n",
       "5   0.079260  0.014270\n",
       "6   0.207001  0.000000\n",
       "7   0.382619  0.008782\n",
       "8   0.309193  0.015368\n",
       "9   0.331523  0.019210\n",
       "10  0.290284  0.031284\n",
       "11  0.510360  0.044457\n",
       "12  0.398511  0.049396\n",
       "13  0.460471  0.045005\n",
       "14  0.526856  0.037870\n",
       "15  0.572521  0.165752\n",
       "16  0.597063  0.140505\n",
       "17  0.599678  0.155873\n",
       "18  0.749346  0.140505\n",
       "19  0.794609  0.144896\n",
       "20  0.782338  0.162459\n",
       "21  0.921344  0.154226\n",
       "22  1.000000  0.297475\n",
       "23  0.929793  0.263996\n",
       "24  0.789781  0.294731\n",
       "25  0.783545  0.462130\n",
       "26  0.827600  0.480241\n",
       "27  0.932207  0.776619\n",
       "28  0.842084  0.846323\n",
       "29  0.727419  1.000000\n",
       "30  0.766445  0.835895\n",
       "31  0.906659  0.798024\n",
       "32  0.893985  0.816685"
      ]
     },
     "execution_count": 121,
     "metadata": {},
     "output_type": "execute_result"
    }
   ],
   "source": [
    "X"
   ]
  },
  {
   "cell_type": "code",
   "execution_count": 122,
   "metadata": {},
   "outputs": [
    {
     "name": "stdout",
     "output_type": "stream",
     "text": [
      "0.012063532495168396\n",
      "0.9162630883651933\n"
     ]
    }
   ],
   "source": [
    "lr = LinearRegression()\n",
    "lr.fit(X.values, y.values)\n",
    "y_predicted_lr = lr.predict(X.values)\n",
    "print(mean_squared_error(y.values, y_predicted_lr))\n",
    "print(r2_score(y.values, y_predicted_lr))"
   ]
  },
  {
   "cell_type": "code",
   "execution_count": 123,
   "metadata": {},
   "outputs": [
    {
     "data": {
      "text/plain": [
       "<matplotlib.legend.Legend at 0x1df66b1f530>"
      ]
     },
     "execution_count": 123,
     "metadata": {},
     "output_type": "execute_result"
    },
    {
     "data": {
      "image/png": "[encoded data removed]",
      "text/plain": [
       "<Figure size 640x480 with 1 Axes>"
      ]
     },
     "metadata": {},
     "output_type": "display_data"
    }
   ],
   "source": [
    "%matplotlib inline\n",
    "ax = y.plot(linestyle='-')\n",
    "pd.DataFrame(y_predicted_lr,columns=y.columns).plot(ax=ax,linestyle='--')\n",
    "ax.legend(['Gerçek yoğun bakım', 'Gerçek entübe', 'Tahmin edilen yoğun bakım', 'Tahmin edilen entübe'])"
   ]
  },
  {
   "cell_type": "markdown",
   "metadata": {},
   "source": [
    "plt.plot(dataset_shifted.index.values, y.values, label='actual')\n",
    "plt.plot(dataset_shifted.index.values, y_predicted_lr, label='predict')\n",
    "plt.xticks(pd.date_range(dataset.index.values[0],\n",
    "                         dataset.index.values[-1],\n",
    "                         freq='W'),\n",
    "           rotation=90)\n",
    "plt.title('LR Model')\n",
    "plt.xlabel('Day')\n",
    "plt.ylabel('Number of deaths')\n",
    "plt.legend()\n",
    "#plt.savefig(\"outputs/lr.png\")"
   ]
  },
  {
   "cell_type": "code",
   "execution_count": 124,
   "metadata": {},
   "outputs": [],
   "source": [
    "mlp = MLPRegressor(hidden_layer_sizes=(75),max_iter=1000,learning_rate_init=0.10, random_state=42)\n",
    "mlp.fit(X.values, y.values)\n",
    "y_predicted_mlp = mlp.predict(X.values)\n"
   ]
  },
  {
   "cell_type": "code",
   "execution_count": 125,
   "metadata": {},
   "outputs": [
    {
     "name": "stdout",
     "output_type": "stream",
     "text": [
      "mean_squared_error:  0.00545122621311585\n",
      "r2_score:  0.9619569390759679\n"
     ]
    }
   ],
   "source": [
    "# Model evaluation\n",
    "r2_mlp = r2_score(y.values, y_predicted_mlp)\n",
    "print(\"mean_squared_error: \", mean_squared_error(y.values, y_predicted_mlp))\n",
    "print(\"r2_score: \", r2_score(y.values, y_predicted_mlp))"
   ]
  },
  {
   "cell_type": "code",
   "execution_count": 126,
   "metadata": {},
   "outputs": [
    {
     "data": {
      "image/png": "[encoded data removed]",
      "text/plain": [
       "<Figure size 640x480 with 1 Axes>"
      ]
     },
     "metadata": {},
     "output_type": "display_data"
    }
   ],
   "source": [
    "ax = y.plot(linestyle='-')\n",
    "pd.DataFrame(y_predicted_mlp,columns=y.columns).plot(ax=ax,linestyle='--')\n",
    "ax.legend(['Gerçek yoğun bakım', 'Gerçek entübe', 'Tahmin edilen yoğun bakım', 'Tahmin edilen entübe'])\n",
    "plt.savefig('comparisons.png')"
   ]
  },
  {
   "cell_type": "code",
   "execution_count": 127,
   "metadata": {},
   "outputs": [
    {
     "data": {
      "text/plain": [
       "array([[-0.74,  0.28,  0.  , -0.34, -0.81,  0.  , -0.84, -0.61, -0.  ,\n",
       "        -0.37, -0.44,  0.67,  0.29, -0.52, -0.  , -0.48,  0.  ,  0.  ,\n",
       "        -0.  , -0.27,  0.24,  0.01, -0.5 , -0.  , -0.3 ,  0.01, -0.33,\n",
       "         0.  , -0.66,  0.  , -0.  ,  0.  , -0.83, -0.49, -0.34,  0.28,\n",
       "        -0.76, -0.82, -0.03, -0.  ,  0.01, -0.71, -0.73, -0.14, -0.  ,\n",
       "        -0.15, -0.7 , -0.69,  0.16, -0.89,  0.45, -0.28, -0.35, -0.75,\n",
       "        -0.54, -0.01,  0.01, -0.76,  0.  ,  0.  , -0.62, -0.72,  0.26,\n",
       "        -0.  , -0.71, -0.57, -0.42, -0.29, -0.57,  0.55,  0.16, -0.86,\n",
       "        -0.01, -0.42, -0.  ],\n",
       "       [-0.31, -0.11,  0.  , -0.48, -0.81, -0.01, -0.47, -0.94,  0.  ,\n",
       "        -0.68, -0.45,  0.3 ,  0.18, -0.12, -0.  , -0.6 , -0.  ,  0.  ,\n",
       "         0.  ,  0.16,  0.08,  0.  , -0.  , -0.  , -0.62, -0.  ,  0.06,\n",
       "         0.  , -0.68, -0.01, -0.  ,  0.  , -0.45, -0.92, -0.83, -0.22,\n",
       "        -0.79, -0.36,  0.16,  0.  , -0.01, -0.51, -2.13, -0.19, -0.  ,\n",
       "         0.09, -0.38, -0.73, -0.06,  0.1 , -0.02, -0.21, -0.4 , -1.45,\n",
       "        -0.59,  0.  , -0.01, -0.73, -0.  , -0.  , -0.61, -0.59,  0.07,\n",
       "        -0.  , -0.31, -0.34, -0.43, -0.37, -1.98, -0.17, -0.34, -0.54,\n",
       "        -0.  , -0.84,  0.  ]])"
      ]
     },
     "execution_count": 127,
     "metadata": {},
     "output_type": "execute_result"
    }
   ],
   "source": [
    "mlp.coefs_[0].round(2)"
   ]
  },
  {
   "cell_type": "code",
   "execution_count": 128,
   "metadata": {},
   "outputs": [
    {
     "data": {
      "text/plain": [
       "array([[-0.74,  0.28,  0.  , -0.34, -0.81,  0.  , -0.84, -0.61, -0.  ,\n",
       "        -0.37, -0.44,  0.67,  0.29, -0.52, -0.  , -0.48,  0.  ,  0.  ,\n",
       "        -0.  , -0.27,  0.24,  0.01, -0.5 , -0.  , -0.3 ,  0.01, -0.33,\n",
       "         0.  , -0.66,  0.  , -0.  ,  0.  , -0.83, -0.49, -0.34,  0.28,\n",
       "        -0.76, -0.82, -0.03, -0.  ,  0.01, -0.71, -0.73, -0.14, -0.  ,\n",
       "        -0.15, -0.7 , -0.69,  0.16, -0.89,  0.45, -0.28, -0.35, -0.75,\n",
       "        -0.54, -0.01,  0.01, -0.76,  0.  ,  0.  , -0.62, -0.72,  0.26,\n",
       "        -0.  , -0.71, -0.57, -0.42, -0.29, -0.57,  0.55,  0.16, -0.86,\n",
       "        -0.01, -0.42, -0.  ],\n",
       "       [-0.31, -0.11,  0.  , -0.48, -0.81, -0.01, -0.47, -0.94,  0.  ,\n",
       "        -0.68, -0.45,  0.3 ,  0.18, -0.12, -0.  , -0.6 , -0.  ,  0.  ,\n",
       "         0.  ,  0.16,  0.08,  0.  , -0.  , -0.  , -0.62, -0.  ,  0.06,\n",
       "         0.  , -0.68, -0.01, -0.  ,  0.  , -0.45, -0.92, -0.83, -0.22,\n",
       "        -0.79, -0.36,  0.16,  0.  , -0.01, -0.51, -2.13, -0.19, -0.  ,\n",
       "         0.09, -0.38, -0.73, -0.06,  0.1 , -0.02, -0.21, -0.4 , -1.45,\n",
       "        -0.59,  0.  , -0.01, -0.73, -0.  , -0.  , -0.61, -0.59,  0.07,\n",
       "        -0.  , -0.31, -0.34, -0.43, -0.37, -1.98, -0.17, -0.34, -0.54,\n",
       "        -0.  , -0.84,  0.  ]])"
      ]
     },
     "execution_count": 128,
     "metadata": {},
     "output_type": "execute_result"
    }
   ],
   "source": [
    "mlp.coefs_[0].round(2)"
   ]
  },
  {
   "cell_type": "code",
   "execution_count": 129,
   "metadata": {},
   "outputs": [
    {
     "data": {
      "text/plain": [
       "[array([-0.5515452 , -0.11333755, -0.19825183, -0.45484947, -0.48890249,\n",
       "        -0.1440081 , -0.50291686, -0.66983935, -0.14647447, -0.19246126,\n",
       "        -0.58384299,  0.18552392, -0.05046508, -0.65957158, -0.22873734,\n",
       "        -0.13710052, -0.10005679, -0.17501375, -0.25638089, -0.28730408,\n",
       "         0.01332157, -0.26988444, -0.59225347, -0.15269482, -0.29059759,\n",
       "        -0.18179814, -0.20952129, -0.06323458, -0.55478126, -0.20236862,\n",
       "        -0.08873115, -0.21579407, -0.43138111, -0.58269857, -0.73415711,\n",
       "        -0.07702199, -0.58976034, -0.56820232, -0.30562882, -0.14412142,\n",
       "        -0.22716687, -0.57515752,  0.51618121, -0.25075422, -0.08986814,\n",
       "        -0.43643633, -0.39985303, -0.59529097,  0.07103813, -0.67375016,\n",
       "        -0.08370917, -0.66933847, -0.78793017, -0.38982761, -0.53960357,\n",
       "        -0.27401064, -0.22249466, -0.50773649, -0.27631943, -0.18936765,\n",
       "        -0.51284233, -0.41469139, -0.08961235, -0.15393783, -0.37951062,\n",
       "        -0.74570126, -0.60751003, -0.39756007,  0.47681588,  0.15723328,\n",
       "        -0.16217883, -0.41825222, -0.22684753, -0.67287358, -0.13108529]),\n",
       " array([0.19461791, 0.39751171])]"
      ]
     },
     "execution_count": 129,
     "metadata": {},
     "output_type": "execute_result"
    }
   ],
   "source": [
    "mlp.intercepts_"
   ]
  },
  {
   "cell_type": "code",
   "execution_count": 130,
   "metadata": {},
   "outputs": [
    {
     "data": {
      "text/html": [
       "<style>#sk-container-id-4 {\n",
       "  /* Definition of color scheme common for light and dark mode */\n",
       "  --sklearn-color-text: black;\n",
       "  --sklearn-color-line: gray;\n",
       "  /* Definition of color scheme for unfitted estimators */\n",
       "  --sklearn-color-unfitted-level-0: #fff5e6;\n",
       "  --sklearn-color-unfitted-level-1: #f6e4d2;\n",
       "  --sklearn-color-unfitted-level-2: #ffe0b3;\n",
       "  --sklearn-color-unfitted-level-3: chocolate;\n",
       "  /* Definition of color scheme for fitted estimators */\n",
       "  --sklearn-color-fitted-level-0: #f0f8ff;\n",
       "  --sklearn-color-fitted-level-1: #d4ebff;\n",
       "  --sklearn-color-fitted-level-2: #b3dbfd;\n",
       "  --sklearn-color-fitted-level-3: cornflowerblue;\n",
       "\n",
       "  /* Specific color for light theme */\n",
       "  --sklearn-color-text-on-default-background: var(--sg-text-color, var(--theme-code-foreground, var(--jp-content-font-color1, black)));\n",
       "  --sklearn-color-background: var(--sg-background-color, var(--theme-background, var(--jp-layout-color0, white)));\n",
       "  --sklearn-color-border-box: var(--sg-text-color, var(--theme-code-foreground, var(--jp-content-font-color1, black)));\n",
       "  --sklearn-color-icon: #696969;\n",
       "\n",
       "  @media (prefers-color-scheme: dark) {\n",
       "    /* Redefinition of color scheme for dark theme */\n",
       "    --sklearn-color-text-on-default-background: var(--sg-text-color, var(--theme-code-foreground, var(--jp-content-font-color1, white)));\n",
       "    --sklearn-color-background: var(--sg-background-color, var(--theme-background, var(--jp-layout-color0, #111)));\n",
       "    --sklearn-color-border-box: var(--sg-text-color, var(--theme-code-foreground, var(--jp-content-font-color1, white)));\n",
       "    --sklearn-color-icon: #878787;\n",
       "  }\n",
       "}\n",
       "\n",
       "#sk-container-id-4 {\n",
       "  color: var(--sklearn-color-text);\n",
       "}\n",
       "\n",
       "#sk-container-id-4 pre {\n",
       "  padding: 0;\n",
       "}\n",
       "\n",
       "#sk-container-id-4 input.sk-hidden--visually {\n",
       "  border: 0;\n",
       "  clip: rect(1px 1px 1px 1px);\n",
       "  clip: rect(1px, 1px, 1px, 1px);\n",
       "  height: 1px;\n",
       "  margin: -1px;\n",
       "  overflow: hidden;\n",
       "  padding: 0;\n",
       "  position: absolute;\n",
       "  width: 1px;\n",
       "}\n",
       "\n",
       "#sk-container-id-4 div.sk-dashed-wrapped {\n",
       "  border: 1px dashed var(--sklearn-color-line);\n",
       "  margin: 0 0.4em 0.5em 0.4em;\n",
       "  box-sizing: border-box;\n",
       "  padding-bottom: 0.4em;\n",
       "  background-color: var(--sklearn-color-background);\n",
       "}\n",
       "\n",
       "#sk-container-id-4 div.sk-container {\n",
       "  /* jupyter's `normalize.less` sets `[hidden] { display: none; }`\n",
       "     but bootstrap.min.css set `[hidden] { display: none !important; }`\n",
       "     so we also need the `!important` here to be able to override the\n",
       "     default hidden behavior on the sphinx rendered scikit-learn.org.\n",
       "     See: https://github.com/scikit-learn/scikit-learn/issues/21755 */\n",
       "  display: inline-block !important;\n",
       "  position: relative;\n",
       "}\n",
       "\n",
       "#sk-container-id-4 div.sk-text-repr-fallback {\n",
       "  display: none;\n",
       "}\n",
       "\n",
       "div.sk-parallel-item,\n",
       "div.sk-serial,\n",
       "div.sk-item {\n",
       "  /* draw centered vertical line to link estimators */\n",
       "  background-image: linear-gradient(var(--sklearn-color-text-on-default-background), var(--sklearn-color-text-on-default-background));\n",
       "  background-size: 2px 100%;\n",
       "  background-repeat: no-repeat;\n",
       "  background-position: center center;\n",
       "}\n",
       "\n",
       "/* Parallel-specific style estimator block */\n",
       "\n",
       "#sk-container-id-4 div.sk-parallel-item::after {\n",
       "  content: \"\";\n",
       "  width: 100%;\n",
       "  border-bottom: 2px solid var(--sklearn-color-text-on-default-background);\n",
       "  flex-grow: 1;\n",
       "}\n",
       "\n",
       "#sk-container-id-4 div.sk-parallel {\n",
       "  display: flex;\n",
       "  align-items: stretch;\n",
       "  justify-content: center;\n",
       "  background-color: var(--sklearn-color-background);\n",
       "  position: relative;\n",
       "}\n",
       "\n",
       "#sk-container-id-4 div.sk-parallel-item {\n",
       "  display: flex;\n",
       "  flex-direction: column;\n",
       "}\n",
       "\n",
       "#sk-container-id-4 div.sk-parallel-item:first-child::after {\n",
       "  align-self: flex-end;\n",
       "  width: 50%;\n",
       "}\n",
       "\n",
       "#sk-container-id-4 div.sk-parallel-item:last-child::after {\n",
       "  align-self: flex-start;\n",
       "  width: 50%;\n",
       "}\n",
       "\n",
       "#sk-container-id-4 div.sk-parallel-item:only-child::after {\n",
       "  width: 0;\n",
       "}\n",
       "\n",
       "/* Serial-specific style estimator block */\n",
       "\n",
       "#sk-container-id-4 div.sk-serial {\n",
       "  display: flex;\n",
       "  flex-direction: column;\n",
       "  align-items: center;\n",
       "  background-color: var(--sklearn-color-background);\n",
       "  padding-right: 1em;\n",
       "  padding-left: 1em;\n",
       "}\n",
       "\n",
       "\n",
       "/* Toggleable style: style used for estimator/Pipeline/ColumnTransformer box that is\n",
       "clickable and can be expanded/collapsed.\n",
       "- Pipeline and ColumnTransformer use this feature and define the default style\n",
       "- Estimators will overwrite some part of the style using the `sk-estimator` class\n",
       "*/\n",
       "\n",
       "/* Pipeline and ColumnTransformer style (default) */\n",
       "\n",
       "#sk-container-id-4 div.sk-toggleable {\n",
       "  /* Default theme specific background. It is overwritten whether we have a\n",
       "  specific estimator or a Pipeline/ColumnTransformer */\n",
       "  background-color: var(--sklearn-color-background);\n",
       "}\n",
       "\n",
       "/* Toggleable label */\n",
       "#sk-container-id-4 label.sk-toggleable__label {\n",
       "  cursor: pointer;\n",
       "  display: block;\n",
       "  width: 100%;\n",
       "  margin-bottom: 0;\n",
       "  padding: 0.5em;\n",
       "  box-sizing: border-box;\n",
       "  text-align: center;\n",
       "}\n",
       "\n",
       "#sk-container-id-4 label.sk-toggleable__label-arrow:before {\n",
       "  /* Arrow on the left of the label */\n",
       "  content: \"▸\";\n",
       "  float: left;\n",
       "  margin-right: 0.25em;\n",
       "  color: var(--sklearn-color-icon);\n",
       "}\n",
       "\n",
       "#sk-container-id-4 label.sk-toggleable__label-arrow:hover:before {\n",
       "  color: var(--sklearn-color-text);\n",
       "}\n",
       "\n",
       "/* Toggleable content - dropdown */\n",
       "\n",
       "#sk-container-id-4 div.sk-toggleable__content {\n",
       "  max-height: 0;\n",
       "  max-width: 0;\n",
       "  overflow: hidden;\n",
       "  text-align: left;\n",
       "  /* unfitted */\n",
       "  background-color: var(--sklearn-color-unfitted-level-0);\n",
       "}\n",
       "\n",
       "#sk-container-id-4 div.sk-toggleable__content.fitted {\n",
       "  /* fitted */\n",
       "  background-color: var(--sklearn-color-fitted-level-0);\n",
       "}\n",
       "\n",
       "#sk-container-id-4 div.sk-toggleable__content pre {\n",
       "  margin: 0.2em;\n",
       "  border-radius: 0.25em;\n",
       "  color: var(--sklearn-color-text);\n",
       "  /* unfitted */\n",
       "  background-color: var(--sklearn-color-unfitted-level-0);\n",
       "}\n",
       "\n",
       "#sk-container-id-4 div.sk-toggleable__content.fitted pre {\n",
       "  /* unfitted */\n",
       "  background-color: var(--sklearn-color-fitted-level-0);\n",
       "}\n",
       "\n",
       "#sk-container-id-4 input.sk-toggleable__control:checked~div.sk-toggleable__content {\n",
       "  /* Expand drop-down */\n",
       "  max-height: 200px;\n",
       "  max-width: 100%;\n",
       "  overflow: auto;\n",
       "}\n",
       "\n",
       "#sk-container-id-4 input.sk-toggleable__control:checked~label.sk-toggleable__label-arrow:before {\n",
       "  content: \"▾\";\n",
       "}\n",
       "\n",
       "/* Pipeline/ColumnTransformer-specific style */\n",
       "\n",
       "#sk-container-id-4 div.sk-label input.sk-toggleable__control:checked~label.sk-toggleable__label {\n",
       "  color: var(--sklearn-color-text);\n",
       "  background-color: var(--sklearn-color-unfitted-level-2);\n",
       "}\n",
       "\n",
       "#sk-container-id-4 div.sk-label.fitted input.sk-toggleable__control:checked~label.sk-toggleable__label {\n",
       "  background-color: var(--sklearn-color-fitted-level-2);\n",
       "}\n",
       "\n",
       "/* Estimator-specific style */\n",
       "\n",
       "/* Colorize estimator box */\n",
       "#sk-container-id-4 div.sk-estimator input.sk-toggleable__control:checked~label.sk-toggleable__label {\n",
       "  /* unfitted */\n",
       "  background-color: var(--sklearn-color-unfitted-level-2);\n",
       "}\n",
       "\n",
       "#sk-container-id-4 div.sk-estimator.fitted input.sk-toggleable__control:checked~label.sk-toggleable__label {\n",
       "  /* fitted */\n",
       "  background-color: var(--sklearn-color-fitted-level-2);\n",
       "}\n",
       "\n",
       "#sk-container-id-4 div.sk-label label.sk-toggleable__label,\n",
       "#sk-container-id-4 div.sk-label label {\n",
       "  /* The background is the default theme color */\n",
       "  color: var(--sklearn-color-text-on-default-background);\n",
       "}\n",
       "\n",
       "/* On hover, darken the color of the background */\n",
       "#sk-container-id-4 div.sk-label:hover label.sk-toggleable__label {\n",
       "  color: var(--sklearn-color-text);\n",
       "  background-color: var(--sklearn-color-unfitted-level-2);\n",
       "}\n",
       "\n",
       "/* Label box, darken color on hover, fitted */\n",
       "#sk-container-id-4 div.sk-label.fitted:hover label.sk-toggleable__label.fitted {\n",
       "  color: var(--sklearn-color-text);\n",
       "  background-color: var(--sklearn-color-fitted-level-2);\n",
       "}\n",
       "\n",
       "/* Estimator label */\n",
       "\n",
       "#sk-container-id-4 div.sk-label label {\n",
       "  font-family: monospace;\n",
       "  font-weight: bold;\n",
       "  display: inline-block;\n",
       "  line-height: 1.2em;\n",
       "}\n",
       "\n",
       "#sk-container-id-4 div.sk-label-container {\n",
       "  text-align: center;\n",
       "}\n",
       "\n",
       "/* Estimator-specific */\n",
       "#sk-container-id-4 div.sk-estimator {\n",
       "  font-family: monospace;\n",
       "  border: 1px dotted var(--sklearn-color-border-box);\n",
       "  border-radius: 0.25em;\n",
       "  box-sizing: border-box;\n",
       "  margin-bottom: 0.5em;\n",
       "  /* unfitted */\n",
       "  background-color: var(--sklearn-color-unfitted-level-0);\n",
       "}\n",
       "\n",
       "#sk-container-id-4 div.sk-estimator.fitted {\n",
       "  /* fitted */\n",
       "  background-color: var(--sklearn-color-fitted-level-0);\n",
       "}\n",
       "\n",
       "/* on hover */\n",
       "#sk-container-id-4 div.sk-estimator:hover {\n",
       "  /* unfitted */\n",
       "  background-color: var(--sklearn-color-unfitted-level-2);\n",
       "}\n",
       "\n",
       "#sk-container-id-4 div.sk-estimator.fitted:hover {\n",
       "  /* fitted */\n",
       "  background-color: var(--sklearn-color-fitted-level-2);\n",
       "}\n",
       "\n",
       "/* Specification for estimator info (e.g. \"i\" and \"?\") */\n",
       "\n",
       "/* Common style for \"i\" and \"?\" */\n",
       "\n",
       ".sk-estimator-doc-link,\n",
       "a:link.sk-estimator-doc-link,\n",
       "a:visited.sk-estimator-doc-link {\n",
       "  float: right;\n",
       "  font-size: smaller;\n",
       "  line-height: 1em;\n",
       "  font-family: monospace;\n",
       "  background-color: var(--sklearn-color-background);\n",
       "  border-radius: 1em;\n",
       "  height: 1em;\n",
       "  width: 1em;\n",
       "  text-decoration: none !important;\n",
       "  margin-left: 1ex;\n",
       "  /* unfitted */\n",
       "  border: var(--sklearn-color-unfitted-level-1) 1pt solid;\n",
       "  color: var(--sklearn-color-unfitted-level-1);\n",
       "}\n",
       "\n",
       ".sk-estimator-doc-link.fitted,\n",
       "a:link.sk-estimator-doc-link.fitted,\n",
       "a:visited.sk-estimator-doc-link.fitted {\n",
       "  /* fitted */\n",
       "  border: var(--sklearn-color-fitted-level-1) 1pt solid;\n",
       "  color: var(--sklearn-color-fitted-level-1);\n",
       "}\n",
       "\n",
       "/* On hover */\n",
       "div.sk-estimator:hover .sk-estimator-doc-link:hover,\n",
       ".sk-estimator-doc-link:hover,\n",
       "div.sk-label-container:hover .sk-estimator-doc-link:hover,\n",
       ".sk-estimator-doc-link:hover {\n",
       "  /* unfitted */\n",
       "  background-color: var(--sklearn-color-unfitted-level-3);\n",
       "  color: var(--sklearn-color-background);\n",
       "  text-decoration: none;\n",
       "}\n",
       "\n",
       "div.sk-estimator.fitted:hover .sk-estimator-doc-link.fitted:hover,\n",
       ".sk-estimator-doc-link.fitted:hover,\n",
       "div.sk-label-container:hover .sk-estimator-doc-link.fitted:hover,\n",
       ".sk-estimator-doc-link.fitted:hover {\n",
       "  /* fitted */\n",
       "  background-color: var(--sklearn-color-fitted-level-3);\n",
       "  color: var(--sklearn-color-background);\n",
       "  text-decoration: none;\n",
       "}\n",
       "\n",
       "/* Span, style for the box shown on hovering the info icon */\n",
       ".sk-estimator-doc-link span {\n",
       "  display: none;\n",
       "  z-index: 9999;\n",
       "  position: relative;\n",
       "  font-weight: normal;\n",
       "  right: .2ex;\n",
       "  padding: .5ex;\n",
       "  margin: .5ex;\n",
       "  width: min-content;\n",
       "  min-width: 20ex;\n",
       "  max-width: 50ex;\n",
       "  color: var(--sklearn-color-text);\n",
       "  box-shadow: 2pt 2pt 4pt #999;\n",
       "  /* unfitted */\n",
       "  background: var(--sklearn-color-unfitted-level-0);\n",
       "  border: .5pt solid var(--sklearn-color-unfitted-level-3);\n",
       "}\n",
       "\n",
       ".sk-estimator-doc-link.fitted span {\n",
       "  /* fitted */\n",
       "  background: var(--sklearn-color-fitted-level-0);\n",
       "  border: var(--sklearn-color-fitted-level-3);\n",
       "}\n",
       "\n",
       ".sk-estimator-doc-link:hover span {\n",
       "  display: block;\n",
       "}\n",
       "\n",
       "/* \"?\"-specific style due to the `<a>` HTML tag */\n",
       "\n",
       "#sk-container-id-4 a.estimator_doc_link {\n",
       "  float: right;\n",
       "  font-size: 1rem;\n",
       "  line-height: 1em;\n",
       "  font-family: monospace;\n",
       "  background-color: var(--sklearn-color-background);\n",
       "  border-radius: 1rem;\n",
       "  height: 1rem;\n",
       "  width: 1rem;\n",
       "  text-decoration: none;\n",
       "  /* unfitted */\n",
       "  color: var(--sklearn-color-unfitted-level-1);\n",
       "  border: var(--sklearn-color-unfitted-level-1) 1pt solid;\n",
       "}\n",
       "\n",
       "#sk-container-id-4 a.estimator_doc_link.fitted {\n",
       "  /* fitted */\n",
       "  border: var(--sklearn-color-fitted-level-1) 1pt solid;\n",
       "  color: var(--sklearn-color-fitted-level-1);\n",
       "}\n",
       "\n",
       "/* On hover */\n",
       "#sk-container-id-4 a.estimator_doc_link:hover {\n",
       "  /* unfitted */\n",
       "  background-color: var(--sklearn-color-unfitted-level-3);\n",
       "  color: var(--sklearn-color-background);\n",
       "  text-decoration: none;\n",
       "}\n",
       "\n",
       "#sk-container-id-4 a.estimator_doc_link.fitted:hover {\n",
       "  /* fitted */\n",
       "  background-color: var(--sklearn-color-fitted-level-3);\n",
       "}\n",
       "</style><div id=\"sk-container-id-4\" class=\"sk-top-container\"><div class=\"sk-text-repr-fallback\"><pre>LinearRegression()</pre><b>In a Jupyter environment, please rerun this cell to show the HTML representation or trust the notebook. <br />On GitHub, the HTML representation is unable to render, please try loading this page with nbviewer.org.</b></div><div class=\"sk-container\" hidden><div class=\"sk-item\"><div class=\"sk-estimator fitted sk-toggleable\"><input class=\"sk-toggleable__control sk-hidden--visually\" id=\"sk-estimator-id-4\" type=\"checkbox\" checked><label for=\"sk-estimator-id-4\" class=\"sk-toggleable__label fitted sk-toggleable__label-arrow fitted\">&nbsp;&nbsp;LinearRegression<a class=\"sk-estimator-doc-link fitted\" rel=\"noreferrer\" target=\"_blank\" href=\"https://scikit-learn.org/1.4/modules/generated/sklearn.linear_model.LinearRegression.html\">?<span>Documentation for LinearRegression</span></a><span class=\"sk-estimator-doc-link fitted\">i<span>Fitted</span></span></label><div class=\"sk-toggleable__content fitted\"><pre>LinearRegression()</pre></div> </div></div></div></div>"
      ],
      "text/plain": [
       "LinearRegression()"
      ]
     },
     "execution_count": 130,
     "metadata": {},
     "output_type": "execute_result"
    }
   ],
   "source": [
    "# Save the model\n",
    "from joblib import dump, load\n",
    "dump(mlp, 'mlp.joblib')\n",
    "dump(lr, 'lr.joblib')\n",
    "# Call the best model\n",
    "load('lr.joblib')\n"
   ]
  },
  {
   "cell_type": "code",
   "execution_count": 131,
   "metadata": {},
   "outputs": [],
   "source": [
    "y_predicted=mlp.predict(X.values)"
   ]
  },
  {
   "cell_type": "code",
   "execution_count": 132,
   "metadata": {},
   "outputs": [
    {
     "data": {
      "text/plain": [
       "array([[-0.07234431, -0.10110281],\n",
       "       [-0.04463526, -0.06353337],\n",
       "       [ 0.00443284,  0.00299585],\n",
       "       [-0.04809889, -0.06822955],\n",
       "       [-0.0384777 , -0.05518461],\n",
       "       [ 0.0282893 ,  0.03963037],\n",
       "       [ 0.13047466,  0.16807255],\n",
       "       [ 0.34849707,  0.42914801],\n",
       "       [ 0.27521041,  0.34636014],\n",
       "       [ 0.30761469,  0.38703653],\n",
       "       [ 0.28203949,  0.36251997],\n",
       "       [ 0.5603265 ,  0.69590839],\n",
       "       [ 0.44024399,  0.55710713],\n",
       "       [ 0.50413925,  0.62964801],\n",
       "       [ 0.56730843,  0.7010394 ],\n",
       "       [ 0.68393127,  0.81774475],\n",
       "       [ 0.69456409,  0.82991238],\n",
       "       [ 0.69934368,  0.83167603],\n",
       "       [ 0.79217451,  0.90946363],\n",
       "       [ 0.82207351,  0.9332219 ],\n",
       "       [ 0.8177546 ,  0.92726586],\n",
       "       [ 0.90519223,  0.99966839],\n",
       "       [ 0.98453665,  1.04446298],\n",
       "       [ 0.93277447,  1.00692143],\n",
       "       [ 0.84923627,  0.93457553],\n",
       "       [ 0.87904308,  0.93564785],\n",
       "       [ 0.91093925,  0.95913051],\n",
       "       [ 1.03783981,  1.02144231],\n",
       "       [ 0.99350101,  0.97948298],\n",
       "       [ 0.94752876,  0.93080592],\n",
       "       [ 0.9425161 ,  0.94172917],\n",
       "       [ 1.02574626,  1.0088556 ],\n",
       "       [ 1.02122864,  1.00354974]])"
      ]
     },
     "execution_count": 132,
     "metadata": {},
     "output_type": "execute_result"
    }
   ],
   "source": [
    "y_predicted"
   ]
  },
  {
   "cell_type": "code",
   "execution_count": 133,
   "metadata": {
    "scrolled": true
   },
   "outputs": [
    {
     "data": {
      "text/plain": [
       "array([[0.        , 0.        ],\n",
       "       [0.        , 0.        ],\n",
       "       [0.        , 0.        ],\n",
       "       [0.        , 0.        ],\n",
       "       [0.        , 0.        ],\n",
       "       [0.        , 0.        ],\n",
       "       [0.        , 0.        ],\n",
       "       [0.17898023, 0.22171113],\n",
       "       [0.23152966, 0.28426863],\n",
       "       [0.29552549, 0.3624655 ],\n",
       "       [0.37721124, 0.48114075],\n",
       "       [0.44068678, 0.57221711],\n",
       "       [0.50936524, 0.63661454],\n",
       "       [0.57284079, 0.72033119],\n",
       "       [0.6508845 , 0.7976081 ],\n",
       "       [0.68210198, 0.83624655],\n",
       "       [0.71852237, 0.86016559],\n",
       "       [0.73621228, 0.88868445],\n",
       "       [0.76690947, 0.90800368],\n",
       "       [0.77627471, 0.91536339],\n",
       "       [0.8074922 , 0.93560258],\n",
       "       [0.8673257 , 0.97700092],\n",
       "       [0.84599376, 0.93928243],\n",
       "       [0.86628512, 0.89972401],\n",
       "       [0.92924037, 0.97792088],\n",
       "       [0.94120708, 1.        ],\n",
       "       [0.94693028, 0.96780129],\n",
       "       [0.96462019, 0.95676173],\n",
       "       [0.95993757, 0.93284269],\n",
       "       [0.98543184, 0.96964121],\n",
       "       [1.        , 0.94848206],\n",
       "       [0.99323621, 0.95032199],\n",
       "       [0.97034339, 0.92548298]])"
      ]
     },
     "execution_count": 133,
     "metadata": {},
     "output_type": "execute_result"
    }
   ],
   "source": [
    "y.values"
   ]
  },
  {
   "cell_type": "code",
   "execution_count": 134,
   "metadata": {},
   "outputs": [],
   "source": [
    "y_train_scaled = y_train_scaled[:X_train_scaled.shape[0]]"
   ]
  },
  {
   "cell_type": "code",
   "execution_count": 135,
   "metadata": {
    "scrolled": true
   },
   "outputs": [
    {
     "data": {
      "image/png": "[encoded data removed]",
      "text/plain": [
       "<Figure size 1000x600 with 1 Axes>"
      ]
     },
     "metadata": {},
     "output_type": "display_data"
    }
   ],
   "source": [
    "plt.figure(figsize=(10, 6))\n",
    "\n",
    "\n",
    "# Eğitim verilerini görselleştirme\n",
    "plt.scatter(X_train_scaled[:, 0], y_train_scaled[:, 0], color='blue', label='Eğitim Verisi (Yoğun Bakım)')\n",
    "plt.scatter(X_train_scaled[:, 1], y_train_scaled[:, 1], color='red', label='Eğitim Verisi (Entübe)')\n",
    "\n",
    "# Test verilerini görselleştirme\n",
    "plt.scatter(X_test_scaled[:, 0], y_test_scaled[:, 0], color='green', label='Test Verisi (Yoğun Bakım)')\n",
    "plt.scatter(X_test_scaled[:, 1], y_test_scaled[:, 1], color='orange', label='Test Verisi (Entübe)')\n",
    "\n",
    "plt.title('Ölçeklendirilmiş Veriler')\n",
    "plt.xlabel('Özellikler (Ölçeklendirilmiş)')\n",
    "plt.ylabel('Hedef Değişkenler (Ölçeklendirilmiş)')\n",
    "plt.legend()\n",
    "plt.grid(True)\n",
    "plt.show()\n",
    "\n"
   ]
  },
  {
   "cell_type": "code",
   "execution_count": 101,
   "metadata": {},
   "outputs": [
    {
     "name": "stdout",
     "output_type": "stream",
     "text": [
      "(33, 2)\n",
      "(26, 2)\n"
     ]
    }
   ],
   "source": [
    "print(X_train_scaled.shape)\n",
    "print(y_train_scaled.shape)\n"
   ]
  },
  {
   "cell_type": "code",
   "execution_count": null,
   "metadata": {},
   "outputs": [],
   "source": []
  }
 ],
 "metadata": {
  "kernelspec": {
   "display_name": "Python 3 (ipykernel)",
   "language": "python",
   "name": "python3"
  },
  "language_info": {
   "codemirror_mode": {
    "name": "ipython",
    "version": 3
   },
   "file_extension": ".py",
   "mimetype": "text/x-python",
   "name": "python",
   "nbconvert_exporter": "python",
   "pygments_lexer": "ipython3",
   "version": "3.11.7"
  },
  "varInspector": {
   "cols": {
    "lenName": 16,
    "lenType": 16,
    "lenVar": 40
   },
   "kernels_config": {
    "python": {
     "delete_cmd_postfix": "",
     "delete_cmd_prefix": "del ",
     "library": "var_list.py",
     "varRefreshCmd": "print(var_dic_list())"
    },
    "r": {
     "delete_cmd_postfix": ") ",
     "delete_cmd_prefix": "rm(",
     "library": "var_list.r",
     "varRefreshCmd": "cat(var_dic_list()) "
    }
   },
   "position": {
    "height": "469px",
    "left": "715.8px",
    "right": "20px",
    "top": "28px",
    "width": "549px"
   },
   "types_to_exclude": [
    "module",
    "function",
    "builtin_function_or_method",
    "instance",
    "_Feature"
   ],
   "window_display": false
  }
 },
 "nbformat": 4,
 "nbformat_minor": 4
}
