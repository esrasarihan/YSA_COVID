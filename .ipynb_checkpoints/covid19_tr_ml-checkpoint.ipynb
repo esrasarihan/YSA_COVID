{
 "cells": [
  {
   "cell_type": "markdown",
   "metadata": {},
   "source": [
    "# COVI19 Turkey Data\n",
    "\n"
   ]
  },
  {
   "cell_type": "code",
   "execution_count": 9,
   "metadata": {},
   "outputs": [],
   "source": [
    "import pandas as pd\n",
    "import numpy as np\n",
    "import matplotlib.pyplot as plt\n",
    "from seaborn import heatmap\n",
    "from sklearn.model_selection import train_test_split\n",
    "from sklearn.linear_model import LinearRegression\n",
    "from sklearn.svm import SVR\n",
    "from sklearn.metrics import mean_squared_error, r2_score\n",
    "from sklearn.preprocessing import MinMaxScaler\n",
    "from sklearn.neural_network import MLPRegressor\n",
    "from scipy.spatial import distance  # Ekledik\n",
    "from joblib import dump, load  # Ekledik\n",
    "import os\n"
   ]
  },
  {
   "cell_type": "code",
   "execution_count": 10,
   "metadata": {},
   "outputs": [],
   "source": [
    "plt.style.use('ggplot')"
   ]
  },
  {
   "cell_type": "code",
   "execution_count": 11,
   "metadata": {},
   "outputs": [],
   "source": [
    "# Dosyayı okuma\n",
    "dosya_yolu = r\"C:\\Users\\esras\\Desktop\\covid\\tr_covid_en.csv\"\n",
    "dataset = pd.read_csv(dosya_yolu, sep=';', index_col=0)\n",
    "dataset.index = pd.to_datetime(dataset.index, format='%d.%m.%Y')\n",
    "output_folder = r\"C:\\Users\\esras\\Desktop\\covid\\outputs\"\n",
    "if not os.path.exists(output_folder):\n",
    "    os.makedirs(output_folder)\n",
    "    "
   ]
  },
  {
   "cell_type": "code",
   "execution_count": 12,
   "metadata": {},
   "outputs": [],
   "source": [
    "for col in dataset.columns.tolist():\n",
    "    plt.figure(figsize=(10, 6))\n",
    "    x_axis = dataset.index.values\n",
    "    y_axis = dataset[col].values\n",
    "    plt.plot(x_axis, y_axis, label=col, marker='o')\n",
    "    plt.title(col)\n",
    "    plt.xlabel(\"Day\")\n",
    "    plt.ylabel(\"Number of people\")\n",
    "    plt.xticks(pd.date_range(dataset.index.values[0], dataset.index.values[-1], freq='W'), rotation=90)\n",
    "    counter = 0\n",
    "    for j, k in zip(x_axis, y_axis):\n",
    "        counter += 1\n",
    "        if not counter % 7:\n",
    "            plt.annotate(str(k), xy=(j, k))\n",
    "    plt.savefig(os.path.join(output_folder, \"{}.png\".format(col)))\n",
    "    plt.close()"
   ]
  },
  {
   "cell_type": "code",
   "execution_count": null,
   "metadata": {},
   "outputs": [],
   "source": []
  },
  {
   "cell_type": "code",
   "execution_count": 13,
   "metadata": {},
   "outputs": [],
   "source": [
    "X = dataset[['num_tests', 'num_deaths']]  # Özellikler\n",
    "y = dataset[['total_intensive_care', 'total_intubated']]  # Hedef değişken\n"
   ]
  },
  {
   "cell_type": "code",
   "execution_count": 14,
   "metadata": {},
   "outputs": [],
   "source": [
    "X_train, X_test, y_train, y_test = train_test_split(X, y, test_size=0.2, random_state=42)"
   ]
  },
  {
   "cell_type": "code",
   "execution_count": 15,
   "metadata": {},
   "outputs": [],
   "source": [
    "scaler = MinMaxScaler()\n",
    "X_train_scaled = scaler.fit_transform(X_train)\n",
    "X_test_scaled = scaler.transform(X_test)\n"
   ]
  },
  {
   "cell_type": "code",
   "execution_count": 16,
   "metadata": {},
   "outputs": [],
   "source": [
    "scaler = MinMaxScaler()\n",
    "X_scaled = scaler.fit_transform(X)\n",
    "y_scaled = scaler.fit_transform(y)\n"
   ]
  },
  {
   "cell_type": "code",
   "execution_count": null,
   "metadata": {},
   "outputs": [],
   "source": []
  },
  {
   "cell_type": "code",
   "execution_count": 17,
   "metadata": {},
   "outputs": [],
   "source": [
    "lr = LinearRegression()\n",
    "lr.fit(X_train_scaled, y_train)\n",
    "y_predicted_lr = lr.predict(X_test_scaled)"
   ]
  },
  {
   "cell_type": "code",
   "execution_count": 18,
   "metadata": {},
   "outputs": [
    {
     "name": "stdout",
     "output_type": "stream",
     "text": [
      "Linear Regression Performance:\n",
      "Mean Squared Error: 18811.85687938307\n",
      "R-squared: 0.9355270011211689\n"
     ]
    }
   ],
   "source": [
    "print(\"Linear Regression Performance:\")\n",
    "print(\"Mean Squared Error:\", mean_squared_error(y_test, y_predicted_lr))\n",
    "print(\"R-squared:\", r2_score(y_test, y_predicted_lr))"
   ]
  },
  {
   "cell_type": "code",
   "execution_count": 19,
   "metadata": {},
   "outputs": [
    {
     "name": "stdout",
     "output_type": "stream",
     "text": [
      "Mean Squared Error: 0.017394403188418752\n",
      "R2 Score: 0.902204256515531\n"
     ]
    }
   ],
   "source": [
    "\n",
    "# MLP modelini tanımlama\n",
    "mlp = MLPRegressor(hidden_layer_sizes=(75), max_iter=2000, learning_rate_init=0.1, random_state=42)\n",
    "\n",
    "# Modeli eğitme\n",
    "mlp.fit(X_scaled, y_scaled)\n",
    "\n",
    "# Tahmin yapma\n",
    "y_predicted_mlp = mlp.predict(X_scaled)\n",
    "\n",
    "# Model değerlendirmesi\n",
    "mse = mean_squared_error(y_scaled, y_predicted_mlp)\n",
    "r2 = r2_score(y_scaled, y_predicted_mlp)\n",
    "\n",
    "print(\"Mean Squared Error:\", mse)\n",
    "print(\"R2 Score:\", r2)"
   ]
  },
  {
   "cell_type": "code",
   "execution_count": 20,
   "metadata": {},
   "outputs": [],
   "source": [
    "dataset_scaled = scaler.fit_transform(dataset)\n",
    "dataset_scaled = pd.DataFrame(dataset_scaled, columns=dataset.columns)"
   ]
  },
  {
   "cell_type": "code",
   "execution_count": 21,
   "metadata": {},
   "outputs": [
    {
     "ename": "NameError",
     "evalue": "name 'dataset_shifted' is not defined",
     "output_type": "error",
     "traceback": [
      "\u001b[1;31m---------------------------------------------------------------------------\u001b[0m",
      "\u001b[1;31mNameError\u001b[0m                                 Traceback (most recent call last)",
      "Cell \u001b[1;32mIn[21], line 2\u001b[0m\n\u001b[0;32m      1\u001b[0m dataset_scaled\u001b[38;5;241m.\u001b[39mcorr()\n\u001b[1;32m----> 2\u001b[0m corr \u001b[38;5;241m=\u001b[39m \u001b[43mdataset_shifted\u001b[49m\u001b[38;5;241m.\u001b[39mcorr()\n",
      "\u001b[1;31mNameError\u001b[0m: name 'dataset_shifted' is not defined"
     ]
    }
   ],
   "source": [
    "dataset_scaled.corr()\n",
    "corr = dataset_shifted.corr()"
   ]
  },
  {
   "cell_type": "code",
   "execution_count": null,
   "metadata": {},
   "outputs": [],
   "source": [
    "  # ilk 8 günün verisi öngörülebilir olmadığı için öteleyelim\n",
    "dataset_shifted = dataset.iloc[9:,:]\n",
    "dataset_shifted.head()\n",
    "\n",
    "corr = dataset_shifted.corr()\n"
   ]
  },
  {
   "cell_type": "code",
   "execution_count": null,
   "metadata": {},
   "outputs": [],
   "source": [
    "# About Data.\n",
    "dataset_shifted.describe()"
   ]
  },
  {
   "cell_type": "code",
   "execution_count": null,
   "metadata": {},
   "outputs": [],
   "source": [
    "dataset_scaled = pd.DataFrame(scaler.fit_transform(dataset_shifted))"
   ]
  },
  {
   "cell_type": "code",
   "execution_count": null,
   "metadata": {},
   "outputs": [],
   "source": [
    "heatmap(corr,\n",
    "        xticklabels=dataset_shifted.columns,\n",
    "        yticklabels=dataset_shifted.columns)"
   ]
  },
  {
   "cell_type": "markdown",
   "metadata": {},
   "source": [
    "num_case ile num_recovered girdi değişkeni, num_intube, num_yogun_bakim ise çıktı değişkeni olarak alınmıştır."
   ]
  },
  {
   "cell_type": "code",
   "execution_count": 22,
   "metadata": {},
   "outputs": [],
   "source": [
    "X = dataset_scaled.iloc[:, [1,4]]\n",
    "y = dataset_scaled.iloc[:,[2,3]]"
   ]
  },
  {
   "cell_type": "code",
   "execution_count": 23,
   "metadata": {
    "scrolled": true
   },
   "outputs": [
    {
     "data": {
      "text/html": [
       "<div>\n",
       "<style scoped>\n",
       "    .dataframe tbody tr th:only-of-type {\n",
       "        vertical-align: middle;\n",
       "    }\n",
       "\n",
       "    .dataframe tbody tr th {\n",
       "        vertical-align: top;\n",
       "    }\n",
       "\n",
       "    .dataframe thead th {\n",
       "        text-align: right;\n",
       "    }\n",
       "</style>\n",
       "<table border=\"1\" class=\"dataframe\">\n",
       "  <thead>\n",
       "    <tr style=\"text-align: right;\">\n",
       "      <th></th>\n",
       "      <th>num_case</th>\n",
       "      <th>num_recovered</th>\n",
       "    </tr>\n",
       "  </thead>\n",
       "  <tbody>\n",
       "    <tr>\n",
       "      <th>0</th>\n",
       "      <td>0.000195</td>\n",
       "      <td>0.000000</td>\n",
       "    </tr>\n",
       "    <tr>\n",
       "      <th>1</th>\n",
       "      <td>0.000000</td>\n",
       "      <td>0.000000</td>\n",
       "    </tr>\n",
       "    <tr>\n",
       "      <th>2</th>\n",
       "      <td>0.000779</td>\n",
       "      <td>0.000000</td>\n",
       "    </tr>\n",
       "    <tr>\n",
       "      <th>3</th>\n",
       "      <td>0.000000</td>\n",
       "      <td>0.000000</td>\n",
       "    </tr>\n",
       "    <tr>\n",
       "      <th>4</th>\n",
       "      <td>0.000195</td>\n",
       "      <td>0.000000</td>\n",
       "    </tr>\n",
       "    <tr>\n",
       "      <th>5</th>\n",
       "      <td>0.002336</td>\n",
       "      <td>0.000000</td>\n",
       "    </tr>\n",
       "    <tr>\n",
       "      <th>6</th>\n",
       "      <td>0.005644</td>\n",
       "      <td>0.000000</td>\n",
       "    </tr>\n",
       "    <tr>\n",
       "      <th>7</th>\n",
       "      <td>0.009926</td>\n",
       "      <td>0.000000</td>\n",
       "    </tr>\n",
       "    <tr>\n",
       "      <th>8</th>\n",
       "      <td>0.018295</td>\n",
       "      <td>0.000000</td>\n",
       "    </tr>\n",
       "    <tr>\n",
       "      <th>9</th>\n",
       "      <td>0.032503</td>\n",
       "      <td>0.000000</td>\n",
       "    </tr>\n",
       "    <tr>\n",
       "      <th>10</th>\n",
       "      <td>0.060529</td>\n",
       "      <td>0.000000</td>\n",
       "    </tr>\n",
       "    <tr>\n",
       "      <th>11</th>\n",
       "      <td>0.110160</td>\n",
       "      <td>0.000000</td>\n",
       "    </tr>\n",
       "    <tr>\n",
       "      <th>12</th>\n",
       "      <td>0.057026</td>\n",
       "      <td>0.000000</td>\n",
       "    </tr>\n",
       "    <tr>\n",
       "      <th>13</th>\n",
       "      <td>0.066757</td>\n",
       "      <td>0.000000</td>\n",
       "    </tr>\n",
       "    <tr>\n",
       "      <th>14</th>\n",
       "      <td>0.109186</td>\n",
       "      <td>0.014270</td>\n",
       "    </tr>\n",
       "    <tr>\n",
       "      <th>15</th>\n",
       "      <td>0.232775</td>\n",
       "      <td>0.000000</td>\n",
       "    </tr>\n",
       "    <tr>\n",
       "      <th>16</th>\n",
       "      <td>0.402686</td>\n",
       "      <td>0.008782</td>\n",
       "    </tr>\n",
       "    <tr>\n",
       "      <th>17</th>\n",
       "      <td>0.331647</td>\n",
       "      <td>0.015368</td>\n",
       "    </tr>\n",
       "    <tr>\n",
       "      <th>18</th>\n",
       "      <td>0.353250</td>\n",
       "      <td>0.019210</td>\n",
       "    </tr>\n",
       "    <tr>\n",
       "      <th>19</th>\n",
       "      <td>0.313351</td>\n",
       "      <td>0.031284</td>\n",
       "    </tr>\n",
       "    <tr>\n",
       "      <th>20</th>\n",
       "      <td>0.526275</td>\n",
       "      <td>0.044457</td>\n",
       "    </tr>\n",
       "    <tr>\n",
       "      <th>21</th>\n",
       "      <td>0.418062</td>\n",
       "      <td>0.049396</td>\n",
       "    </tr>\n",
       "    <tr>\n",
       "      <th>22</th>\n",
       "      <td>0.478007</td>\n",
       "      <td>0.045005</td>\n",
       "    </tr>\n",
       "    <tr>\n",
       "      <th>23</th>\n",
       "      <td>0.542234</td>\n",
       "      <td>0.037870</td>\n",
       "    </tr>\n",
       "    <tr>\n",
       "      <th>24</th>\n",
       "      <td>0.586415</td>\n",
       "      <td>0.165752</td>\n",
       "    </tr>\n",
       "    <tr>\n",
       "      <th>25</th>\n",
       "      <td>0.610160</td>\n",
       "      <td>0.140505</td>\n",
       "    </tr>\n",
       "    <tr>\n",
       "      <th>26</th>\n",
       "      <td>0.612690</td>\n",
       "      <td>0.155873</td>\n",
       "    </tr>\n",
       "    <tr>\n",
       "      <th>27</th>\n",
       "      <td>0.757493</td>\n",
       "      <td>0.140505</td>\n",
       "    </tr>\n",
       "    <tr>\n",
       "      <th>28</th>\n",
       "      <td>0.801285</td>\n",
       "      <td>0.144896</td>\n",
       "    </tr>\n",
       "    <tr>\n",
       "      <th>29</th>\n",
       "      <td>0.789412</td>\n",
       "      <td>0.162459</td>\n",
       "    </tr>\n",
       "    <tr>\n",
       "      <th>30</th>\n",
       "      <td>0.923900</td>\n",
       "      <td>0.154226</td>\n",
       "    </tr>\n",
       "    <tr>\n",
       "      <th>31</th>\n",
       "      <td>1.000000</td>\n",
       "      <td>0.297475</td>\n",
       "    </tr>\n",
       "    <tr>\n",
       "      <th>32</th>\n",
       "      <td>0.932075</td>\n",
       "      <td>0.263996</td>\n",
       "    </tr>\n",
       "    <tr>\n",
       "      <th>33</th>\n",
       "      <td>0.796613</td>\n",
       "      <td>0.294731</td>\n",
       "    </tr>\n",
       "    <tr>\n",
       "      <th>34</th>\n",
       "      <td>0.790580</td>\n",
       "      <td>0.462130</td>\n",
       "    </tr>\n",
       "    <tr>\n",
       "      <th>35</th>\n",
       "      <td>0.833204</td>\n",
       "      <td>0.480241</td>\n",
       "    </tr>\n",
       "    <tr>\n",
       "      <th>36</th>\n",
       "      <td>0.934410</td>\n",
       "      <td>0.776619</td>\n",
       "    </tr>\n",
       "    <tr>\n",
       "      <th>37</th>\n",
       "      <td>0.847217</td>\n",
       "      <td>0.846323</td>\n",
       "    </tr>\n",
       "    <tr>\n",
       "      <th>38</th>\n",
       "      <td>0.736279</td>\n",
       "      <td>1.000000</td>\n",
       "    </tr>\n",
       "    <tr>\n",
       "      <th>39</th>\n",
       "      <td>0.774037</td>\n",
       "      <td>0.835895</td>\n",
       "    </tr>\n",
       "    <tr>\n",
       "      <th>40</th>\n",
       "      <td>0.909692</td>\n",
       "      <td>0.798024</td>\n",
       "    </tr>\n",
       "    <tr>\n",
       "      <th>41</th>\n",
       "      <td>0.897431</td>\n",
       "      <td>0.816685</td>\n",
       "    </tr>\n",
       "  </tbody>\n",
       "</table>\n",
       "</div>"
      ],
      "text/plain": [
       "    num_case  num_recovered\n",
       "0   0.000195       0.000000\n",
       "1   0.000000       0.000000\n",
       "2   0.000779       0.000000\n",
       "3   0.000000       0.000000\n",
       "4   0.000195       0.000000\n",
       "5   0.002336       0.000000\n",
       "6   0.005644       0.000000\n",
       "7   0.009926       0.000000\n",
       "8   0.018295       0.000000\n",
       "9   0.032503       0.000000\n",
       "10  0.060529       0.000000\n",
       "11  0.110160       0.000000\n",
       "12  0.057026       0.000000\n",
       "13  0.066757       0.000000\n",
       "14  0.109186       0.014270\n",
       "15  0.232775       0.000000\n",
       "16  0.402686       0.008782\n",
       "17  0.331647       0.015368\n",
       "18  0.353250       0.019210\n",
       "19  0.313351       0.031284\n",
       "20  0.526275       0.044457\n",
       "21  0.418062       0.049396\n",
       "22  0.478007       0.045005\n",
       "23  0.542234       0.037870\n",
       "24  0.586415       0.165752\n",
       "25  0.610160       0.140505\n",
       "26  0.612690       0.155873\n",
       "27  0.757493       0.140505\n",
       "28  0.801285       0.144896\n",
       "29  0.789412       0.162459\n",
       "30  0.923900       0.154226\n",
       "31  1.000000       0.297475\n",
       "32  0.932075       0.263996\n",
       "33  0.796613       0.294731\n",
       "34  0.790580       0.462130\n",
       "35  0.833204       0.480241\n",
       "36  0.934410       0.776619\n",
       "37  0.847217       0.846323\n",
       "38  0.736279       1.000000\n",
       "39  0.774037       0.835895\n",
       "40  0.909692       0.798024\n",
       "41  0.897431       0.816685"
      ]
     },
     "execution_count": 23,
     "metadata": {},
     "output_type": "execute_result"
    }
   ],
   "source": [
    "X"
   ]
  },
  {
   "cell_type": "code",
   "execution_count": 24,
   "metadata": {},
   "outputs": [
    {
     "name": "stdout",
     "output_type": "stream",
     "text": [
      "0.009639715030004319\n",
      "0.9452200542197746\n"
     ]
    }
   ],
   "source": [
    "lr = LinearRegression()\n",
    "lr.fit(X.values, y.values)\n",
    "y_predicted_lr = lr.predict(X.values)\n",
    "print(mean_squared_error(y.values, y_predicted_lr))\n",
    "print(r2_score(y.values, y_predicted_lr))"
   ]
  },
  {
   "cell_type": "code",
   "execution_count": 25,
   "metadata": {},
   "outputs": [
    {
     "data": {
      "text/plain": [
       "<matplotlib.legend.Legend at 0x17db68132f0>"
      ]
     },
     "execution_count": 25,
     "metadata": {},
     "output_type": "execute_result"
    },
    {
     "data": {
      "image/png": "[encoded data removed]",
      "text/plain": [
       "<Figure size 640x480 with 1 Axes>"
      ]
     },
     "metadata": {},
     "output_type": "display_data"
    }
   ],
   "source": [
    "%matplotlib inline\n",
    "ax = y.plot(linestyle='-')\n",
    "pd.DataFrame(y_predicted_lr,columns=y.columns).plot(ax=ax,linestyle='--')\n",
    "ax.legend(['Gerçek yoğun bakım', 'Gerçek entübe', 'Tahmin edilen yoğun bakım', 'Tahmin edilen entübe'])"
   ]
  },
  {
   "cell_type": "markdown",
   "metadata": {},
   "source": [
    "plt.plot(dataset_shifted.index.values, y.values, label='actual')\n",
    "plt.plot(dataset_shifted.index.values, y_predicted_lr, label='predict')\n",
    "plt.xticks(pd.date_range(dataset.index.values[0],\n",
    "                         dataset.index.values[-1],\n",
    "                         freq='W'),\n",
    "           rotation=90)\n",
    "plt.title('LR Model')\n",
    "plt.xlabel('Day')\n",
    "plt.ylabel('Number of deaths')\n",
    "plt.legend()\n",
    "#plt.savefig(\"outputs/lr.png\")"
   ]
  },
  {
   "cell_type": "code",
   "execution_count": 26,
   "metadata": {},
   "outputs": [],
   "source": [
    "mlp = MLPRegressor(hidden_layer_sizes=(75),max_iter=1000,learning_rate_init=0.10, random_state=42)\n",
    "mlp.fit(X.values, y.values)\n",
    "y_predicted_mlp = mlp.predict(X.values)\n"
   ]
  },
  {
   "cell_type": "code",
   "execution_count": 27,
   "metadata": {},
   "outputs": [
    {
     "name": "stdout",
     "output_type": "stream",
     "text": [
      "mean_squared_error:  0.005454888285258161\n",
      "r2_score:  0.9688285505980814\n"
     ]
    }
   ],
   "source": [
    "# Model evaluation\n",
    "r2_mlp = r2_score(y.values, y_predicted_mlp)\n",
    "print(\"mean_squared_error: \", mean_squared_error(y.values, y_predicted_mlp))\n",
    "print(\"r2_score: \", r2_score(y.values, y_predicted_mlp))"
   ]
  },
  {
   "cell_type": "code",
   "execution_count": 28,
   "metadata": {},
   "outputs": [
    {
     "data": {
      "image/png": "[encoded data removed]",
      "text/plain": [
       "<Figure size 640x480 with 1 Axes>"
      ]
     },
     "metadata": {},
     "output_type": "display_data"
    }
   ],
   "source": [
    "ax = y.plot(linestyle='-')\n",
    "pd.DataFrame(y_predicted_mlp,columns=y.columns).plot(ax=ax,linestyle='--')\n",
    "ax.legend(['Gerçek yoğun bakım', 'Gerçek entübe', 'Tahmin edilen yoğun bakım', 'Tahmin edilen entübe'])\n",
    "plt.savefig('comparisons.png')"
   ]
  },
  {
   "cell_type": "code",
   "execution_count": 29,
   "metadata": {},
   "outputs": [
    {
     "data": {
      "text/plain": [
       "array([[-0.76,  0.36,  0.  , -0.3 , -0.5 ,  0.  , -0.84, -0.64,  0.  ,\n",
       "        -0.4 , -0.45,  0.74,  0.37, -0.51,  0.01, -0.45, -0.  ,  0.  ,\n",
       "        -0.  , -0.21,  0.31,  0.  , -0.57,  0.  , -0.39, -0.01, -0.52,\n",
       "         0.  , -0.64, -0.01, -0.  ,  0.01, -0.85, -0.37, -0.34,  0.37,\n",
       "        -0.66, -0.82,  0.04,  0.  , -0.  , -0.72, -0.5 , -0.16, -0.  ,\n",
       "         0.01, -0.7 , -0.66,  0.21, -0.91,  0.53, -0.25, -0.35, -0.74,\n",
       "        -0.54,  0.01, -0.01, -0.76, -0.01, -0.  , -0.62, -0.72,  0.32,\n",
       "         0.  , -0.71, -0.57, -0.43, -0.24, -0.78,  0.6 , -0.07, -0.83,\n",
       "        -0.01, -0.42,  0.  ],\n",
       "       [-0.31, -0.25, -0.01, -0.45, -1.47, -0.  , -0.43, -0.92, -0.01,\n",
       "        -0.69, -0.44,  0.32,  0.2 , -0.1 , -0.  , -0.58,  0.  , -0.  ,\n",
       "        -0.  ,  0.18,  0.1 ,  0.  , -0.  , -0.01, -0.73, -0.01, -0.08,\n",
       "        -0.  , -0.67,  0.01,  0.  , -0.  , -0.46, -0.84, -0.83, -0.24,\n",
       "        -0.77, -0.36,  0.18, -0.  ,  0.  , -0.52, -2.2 , -0.21, -0.  ,\n",
       "         0.34, -0.38, -0.72, -0.02,  0.12, -0.01, -0.16, -0.4 , -1.47,\n",
       "        -0.59, -0.  ,  0.  , -0.74,  0.  ,  0.01, -0.6 , -0.59,  0.05,\n",
       "         0.  , -0.31, -0.34, -0.43, -0.29, -0.6 , -0.15, -0.53, -0.6 ,\n",
       "        -0.  , -0.84, -0.  ]])"
      ]
     },
     "execution_count": 29,
     "metadata": {},
     "output_type": "execute_result"
    }
   ],
   "source": [
    "mlp.coefs_[0].round(2)"
   ]
  },
  {
   "cell_type": "code",
   "execution_count": 30,
   "metadata": {},
   "outputs": [
    {
     "data": {
      "text/plain": [
       "array([[-0.76,  0.36,  0.  , -0.3 , -0.5 ,  0.  , -0.84, -0.64,  0.  ,\n",
       "        -0.4 , -0.45,  0.74,  0.37, -0.51,  0.01, -0.45, -0.  ,  0.  ,\n",
       "        -0.  , -0.21,  0.31,  0.  , -0.57,  0.  , -0.39, -0.01, -0.52,\n",
       "         0.  , -0.64, -0.01, -0.  ,  0.01, -0.85, -0.37, -0.34,  0.37,\n",
       "        -0.66, -0.82,  0.04,  0.  , -0.  , -0.72, -0.5 , -0.16, -0.  ,\n",
       "         0.01, -0.7 , -0.66,  0.21, -0.91,  0.53, -0.25, -0.35, -0.74,\n",
       "        -0.54,  0.01, -0.01, -0.76, -0.01, -0.  , -0.62, -0.72,  0.32,\n",
       "         0.  , -0.71, -0.57, -0.43, -0.24, -0.78,  0.6 , -0.07, -0.83,\n",
       "        -0.01, -0.42,  0.  ],\n",
       "       [-0.31, -0.25, -0.01, -0.45, -1.47, -0.  , -0.43, -0.92, -0.01,\n",
       "        -0.69, -0.44,  0.32,  0.2 , -0.1 , -0.  , -0.58,  0.  , -0.  ,\n",
       "        -0.  ,  0.18,  0.1 ,  0.  , -0.  , -0.01, -0.73, -0.01, -0.08,\n",
       "        -0.  , -0.67,  0.01,  0.  , -0.  , -0.46, -0.84, -0.83, -0.24,\n",
       "        -0.77, -0.36,  0.18, -0.  ,  0.  , -0.52, -2.2 , -0.21, -0.  ,\n",
       "         0.34, -0.38, -0.72, -0.02,  0.12, -0.01, -0.16, -0.4 , -1.47,\n",
       "        -0.59, -0.  ,  0.  , -0.74,  0.  ,  0.01, -0.6 , -0.59,  0.05,\n",
       "         0.  , -0.31, -0.34, -0.43, -0.29, -0.6 , -0.15, -0.53, -0.6 ,\n",
       "        -0.  , -0.84, -0.  ]])"
      ]
     },
     "execution_count": 30,
     "metadata": {},
     "output_type": "execute_result"
    }
   ],
   "source": [
    "mlp.coefs_[0].round(2)"
   ]
  },
  {
   "cell_type": "code",
   "execution_count": 31,
   "metadata": {},
   "outputs": [
    {
     "data": {
      "text/plain": [
       "[array([-0.60820576, -0.05395721, -0.19825183, -0.45898943,  0.38966685,\n",
       "        -0.1440081 , -0.50239603, -0.69263526, -0.14647447, -0.15213255,\n",
       "        -0.58293742,  0.14924989, -0.08326523, -0.80828678, -0.22873734,\n",
       "        -0.27694878, -0.10005679, -0.17501375, -0.25638089, -0.32440992,\n",
       "        -0.05982214, -0.26988444, -0.59174163, -0.15269482, -0.38348657,\n",
       "        -0.18179814, -0.40698994, -0.06323458, -0.57419851, -0.20236862,\n",
       "        -0.08873115, -0.21579407, -0.59992485, -0.46213686, -0.73363453,\n",
       "        -0.09986158, -0.12193248, -0.56768039, -0.33879571, -0.14412142,\n",
       "        -0.22716687, -0.63021697,  0.44006293, -0.28328092, -0.08986814,\n",
       "        -0.38350177, -0.30986531, -0.58151539, -0.00421891, -0.66748485,\n",
       "        -0.07384692, -0.63916963, -0.78740826, -0.36268944, -0.539082  ,\n",
       "        -0.27401064, -0.22249466, -0.50721579, -0.27631943, -0.18936765,\n",
       "        -0.53543856, -0.30247549, -0.13742244, -0.15393783, -0.30148357,\n",
       "        -0.74517638, -0.60660227, -0.40952794, -0.39914819,  0.09852815,\n",
       "        -0.52763844, -0.46159378, -0.22684753, -0.67235164, -0.13108529]),\n",
       " array([0.1528432 , 0.33705583])]"
      ]
     },
     "execution_count": 31,
     "metadata": {},
     "output_type": "execute_result"
    }
   ],
   "source": [
    "mlp.intercepts_"
   ]
  },
  {
   "cell_type": "code",
   "execution_count": 32,
   "metadata": {},
   "outputs": [
    {
     "data": {
      "text/html": [
       "<style>#sk-container-id-1 {\n",
       "  /* Definition of color scheme common for light and dark mode */\n",
       "  --sklearn-color-text: black;\n",
       "  --sklearn-color-line: gray;\n",
       "  /* Definition of color scheme for unfitted estimators */\n",
       "  --sklearn-color-unfitted-level-0: #fff5e6;\n",
       "  --sklearn-color-unfitted-level-1: #f6e4d2;\n",
       "  --sklearn-color-unfitted-level-2: #ffe0b3;\n",
       "  --sklearn-color-unfitted-level-3: chocolate;\n",
       "  /* Definition of color scheme for fitted estimators */\n",
       "  --sklearn-color-fitted-level-0: #f0f8ff;\n",
       "  --sklearn-color-fitted-level-1: #d4ebff;\n",
       "  --sklearn-color-fitted-level-2: #b3dbfd;\n",
       "  --sklearn-color-fitted-level-3: cornflowerblue;\n",
       "\n",
       "  /* Specific color for light theme */\n",
       "  --sklearn-color-text-on-default-background: var(--sg-text-color, var(--theme-code-foreground, var(--jp-content-font-color1, black)));\n",
       "  --sklearn-color-background: var(--sg-background-color, var(--theme-background, var(--jp-layout-color0, white)));\n",
       "  --sklearn-color-border-box: var(--sg-text-color, var(--theme-code-foreground, var(--jp-content-font-color1, black)));\n",
       "  --sklearn-color-icon: #696969;\n",
       "\n",
       "  @media (prefers-color-scheme: dark) {\n",
       "    /* Redefinition of color scheme for dark theme */\n",
       "    --sklearn-color-text-on-default-background: var(--sg-text-color, var(--theme-code-foreground, var(--jp-content-font-color1, white)));\n",
       "    --sklearn-color-background: var(--sg-background-color, var(--theme-background, var(--jp-layout-color0, #111)));\n",
       "    --sklearn-color-border-box: var(--sg-text-color, var(--theme-code-foreground, var(--jp-content-font-color1, white)));\n",
       "    --sklearn-color-icon: #878787;\n",
       "  }\n",
       "}\n",
       "\n",
       "#sk-container-id-1 {\n",
       "  color: var(--sklearn-color-text);\n",
       "}\n",
       "\n",
       "#sk-container-id-1 pre {\n",
       "  padding: 0;\n",
       "}\n",
       "\n",
       "#sk-container-id-1 input.sk-hidden--visually {\n",
       "  border: 0;\n",
       "  clip: rect(1px 1px 1px 1px);\n",
       "  clip: rect(1px, 1px, 1px, 1px);\n",
       "  height: 1px;\n",
       "  margin: -1px;\n",
       "  overflow: hidden;\n",
       "  padding: 0;\n",
       "  position: absolute;\n",
       "  width: 1px;\n",
       "}\n",
       "\n",
       "#sk-container-id-1 div.sk-dashed-wrapped {\n",
       "  border: 1px dashed var(--sklearn-color-line);\n",
       "  margin: 0 0.4em 0.5em 0.4em;\n",
       "  box-sizing: border-box;\n",
       "  padding-bottom: 0.4em;\n",
       "  background-color: var(--sklearn-color-background);\n",
       "}\n",
       "\n",
       "#sk-container-id-1 div.sk-container {\n",
       "  /* jupyter's `normalize.less` sets `[hidden] { display: none; }`\n",
       "     but bootstrap.min.css set `[hidden] { display: none !important; }`\n",
       "     so we also need the `!important` here to be able to override the\n",
       "     default hidden behavior on the sphinx rendered scikit-learn.org.\n",
       "     See: https://github.com/scikit-learn/scikit-learn/issues/21755 */\n",
       "  display: inline-block !important;\n",
       "  position: relative;\n",
       "}\n",
       "\n",
       "#sk-container-id-1 div.sk-text-repr-fallback {\n",
       "  display: none;\n",
       "}\n",
       "\n",
       "div.sk-parallel-item,\n",
       "div.sk-serial,\n",
       "div.sk-item {\n",
       "  /* draw centered vertical line to link estimators */\n",
       "  background-image: linear-gradient(var(--sklearn-color-text-on-default-background), var(--sklearn-color-text-on-default-background));\n",
       "  background-size: 2px 100%;\n",
       "  background-repeat: no-repeat;\n",
       "  background-position: center center;\n",
       "}\n",
       "\n",
       "/* Parallel-specific style estimator block */\n",
       "\n",
       "#sk-container-id-1 div.sk-parallel-item::after {\n",
       "  content: \"\";\n",
       "  width: 100%;\n",
       "  border-bottom: 2px solid var(--sklearn-color-text-on-default-background);\n",
       "  flex-grow: 1;\n",
       "}\n",
       "\n",
       "#sk-container-id-1 div.sk-parallel {\n",
       "  display: flex;\n",
       "  align-items: stretch;\n",
       "  justify-content: center;\n",
       "  background-color: var(--sklearn-color-background);\n",
       "  position: relative;\n",
       "}\n",
       "\n",
       "#sk-container-id-1 div.sk-parallel-item {\n",
       "  display: flex;\n",
       "  flex-direction: column;\n",
       "}\n",
       "\n",
       "#sk-container-id-1 div.sk-parallel-item:first-child::after {\n",
       "  align-self: flex-end;\n",
       "  width: 50%;\n",
       "}\n",
       "\n",
       "#sk-container-id-1 div.sk-parallel-item:last-child::after {\n",
       "  align-self: flex-start;\n",
       "  width: 50%;\n",
       "}\n",
       "\n",
       "#sk-container-id-1 div.sk-parallel-item:only-child::after {\n",
       "  width: 0;\n",
       "}\n",
       "\n",
       "/* Serial-specific style estimator block */\n",
       "\n",
       "#sk-container-id-1 div.sk-serial {\n",
       "  display: flex;\n",
       "  flex-direction: column;\n",
       "  align-items: center;\n",
       "  background-color: var(--sklearn-color-background);\n",
       "  padding-right: 1em;\n",
       "  padding-left: 1em;\n",
       "}\n",
       "\n",
       "\n",
       "/* Toggleable style: style used for estimator/Pipeline/ColumnTransformer box that is\n",
       "clickable and can be expanded/collapsed.\n",
       "- Pipeline and ColumnTransformer use this feature and define the default style\n",
       "- Estimators will overwrite some part of the style using the `sk-estimator` class\n",
       "*/\n",
       "\n",
       "/* Pipeline and ColumnTransformer style (default) */\n",
       "\n",
       "#sk-container-id-1 div.sk-toggleable {\n",
       "  /* Default theme specific background. It is overwritten whether we have a\n",
       "  specific estimator or a Pipeline/ColumnTransformer */\n",
       "  background-color: var(--sklearn-color-background);\n",
       "}\n",
       "\n",
       "/* Toggleable label */\n",
       "#sk-container-id-1 label.sk-toggleable__label {\n",
       "  cursor: pointer;\n",
       "  display: block;\n",
       "  width: 100%;\n",
       "  margin-bottom: 0;\n",
       "  padding: 0.5em;\n",
       "  box-sizing: border-box;\n",
       "  text-align: center;\n",
       "}\n",
       "\n",
       "#sk-container-id-1 label.sk-toggleable__label-arrow:before {\n",
       "  /* Arrow on the left of the label */\n",
       "  content: \"▸\";\n",
       "  float: left;\n",
       "  margin-right: 0.25em;\n",
       "  color: var(--sklearn-color-icon);\n",
       "}\n",
       "\n",
       "#sk-container-id-1 label.sk-toggleable__label-arrow:hover:before {\n",
       "  color: var(--sklearn-color-text);\n",
       "}\n",
       "\n",
       "/* Toggleable content - dropdown */\n",
       "\n",
       "#sk-container-id-1 div.sk-toggleable__content {\n",
       "  max-height: 0;\n",
       "  max-width: 0;\n",
       "  overflow: hidden;\n",
       "  text-align: left;\n",
       "  /* unfitted */\n",
       "  background-color: var(--sklearn-color-unfitted-level-0);\n",
       "}\n",
       "\n",
       "#sk-container-id-1 div.sk-toggleable__content.fitted {\n",
       "  /* fitted */\n",
       "  background-color: var(--sklearn-color-fitted-level-0);\n",
       "}\n",
       "\n",
       "#sk-container-id-1 div.sk-toggleable__content pre {\n",
       "  margin: 0.2em;\n",
       "  border-radius: 0.25em;\n",
       "  color: var(--sklearn-color-text);\n",
       "  /* unfitted */\n",
       "  background-color: var(--sklearn-color-unfitted-level-0);\n",
       "}\n",
       "\n",
       "#sk-container-id-1 div.sk-toggleable__content.fitted pre {\n",
       "  /* unfitted */\n",
       "  background-color: var(--sklearn-color-fitted-level-0);\n",
       "}\n",
       "\n",
       "#sk-container-id-1 input.sk-toggleable__control:checked~div.sk-toggleable__content {\n",
       "  /* Expand drop-down */\n",
       "  max-height: 200px;\n",
       "  max-width: 100%;\n",
       "  overflow: auto;\n",
       "}\n",
       "\n",
       "#sk-container-id-1 input.sk-toggleable__control:checked~label.sk-toggleable__label-arrow:before {\n",
       "  content: \"▾\";\n",
       "}\n",
       "\n",
       "/* Pipeline/ColumnTransformer-specific style */\n",
       "\n",
       "#sk-container-id-1 div.sk-label input.sk-toggleable__control:checked~label.sk-toggleable__label {\n",
       "  color: var(--sklearn-color-text);\n",
       "  background-color: var(--sklearn-color-unfitted-level-2);\n",
       "}\n",
       "\n",
       "#sk-container-id-1 div.sk-label.fitted input.sk-toggleable__control:checked~label.sk-toggleable__label {\n",
       "  background-color: var(--sklearn-color-fitted-level-2);\n",
       "}\n",
       "\n",
       "/* Estimator-specific style */\n",
       "\n",
       "/* Colorize estimator box */\n",
       "#sk-container-id-1 div.sk-estimator input.sk-toggleable__control:checked~label.sk-toggleable__label {\n",
       "  /* unfitted */\n",
       "  background-color: var(--sklearn-color-unfitted-level-2);\n",
       "}\n",
       "\n",
       "#sk-container-id-1 div.sk-estimator.fitted input.sk-toggleable__control:checked~label.sk-toggleable__label {\n",
       "  /* fitted */\n",
       "  background-color: var(--sklearn-color-fitted-level-2);\n",
       "}\n",
       "\n",
       "#sk-container-id-1 div.sk-label label.sk-toggleable__label,\n",
       "#sk-container-id-1 div.sk-label label {\n",
       "  /* The background is the default theme color */\n",
       "  color: var(--sklearn-color-text-on-default-background);\n",
       "}\n",
       "\n",
       "/* On hover, darken the color of the background */\n",
       "#sk-container-id-1 div.sk-label:hover label.sk-toggleable__label {\n",
       "  color: var(--sklearn-color-text);\n",
       "  background-color: var(--sklearn-color-unfitted-level-2);\n",
       "}\n",
       "\n",
       "/* Label box, darken color on hover, fitted */\n",
       "#sk-container-id-1 div.sk-label.fitted:hover label.sk-toggleable__label.fitted {\n",
       "  color: var(--sklearn-color-text);\n",
       "  background-color: var(--sklearn-color-fitted-level-2);\n",
       "}\n",
       "\n",
       "/* Estimator label */\n",
       "\n",
       "#sk-container-id-1 div.sk-label label {\n",
       "  font-family: monospace;\n",
       "  font-weight: bold;\n",
       "  display: inline-block;\n",
       "  line-height: 1.2em;\n",
       "}\n",
       "\n",
       "#sk-container-id-1 div.sk-label-container {\n",
       "  text-align: center;\n",
       "}\n",
       "\n",
       "/* Estimator-specific */\n",
       "#sk-container-id-1 div.sk-estimator {\n",
       "  font-family: monospace;\n",
       "  border: 1px dotted var(--sklearn-color-border-box);\n",
       "  border-radius: 0.25em;\n",
       "  box-sizing: border-box;\n",
       "  margin-bottom: 0.5em;\n",
       "  /* unfitted */\n",
       "  background-color: var(--sklearn-color-unfitted-level-0);\n",
       "}\n",
       "\n",
       "#sk-container-id-1 div.sk-estimator.fitted {\n",
       "  /* fitted */\n",
       "  background-color: var(--sklearn-color-fitted-level-0);\n",
       "}\n",
       "\n",
       "/* on hover */\n",
       "#sk-container-id-1 div.sk-estimator:hover {\n",
       "  /* unfitted */\n",
       "  background-color: var(--sklearn-color-unfitted-level-2);\n",
       "}\n",
       "\n",
       "#sk-container-id-1 div.sk-estimator.fitted:hover {\n",
       "  /* fitted */\n",
       "  background-color: var(--sklearn-color-fitted-level-2);\n",
       "}\n",
       "\n",
       "/* Specification for estimator info (e.g. \"i\" and \"?\") */\n",
       "\n",
       "/* Common style for \"i\" and \"?\" */\n",
       "\n",
       ".sk-estimator-doc-link,\n",
       "a:link.sk-estimator-doc-link,\n",
       "a:visited.sk-estimator-doc-link {\n",
       "  float: right;\n",
       "  font-size: smaller;\n",
       "  line-height: 1em;\n",
       "  font-family: monospace;\n",
       "  background-color: var(--sklearn-color-background);\n",
       "  border-radius: 1em;\n",
       "  height: 1em;\n",
       "  width: 1em;\n",
       "  text-decoration: none !important;\n",
       "  margin-left: 1ex;\n",
       "  /* unfitted */\n",
       "  border: var(--sklearn-color-unfitted-level-1) 1pt solid;\n",
       "  color: var(--sklearn-color-unfitted-level-1);\n",
       "}\n",
       "\n",
       ".sk-estimator-doc-link.fitted,\n",
       "a:link.sk-estimator-doc-link.fitted,\n",
       "a:visited.sk-estimator-doc-link.fitted {\n",
       "  /* fitted */\n",
       "  border: var(--sklearn-color-fitted-level-1) 1pt solid;\n",
       "  color: var(--sklearn-color-fitted-level-1);\n",
       "}\n",
       "\n",
       "/* On hover */\n",
       "div.sk-estimator:hover .sk-estimator-doc-link:hover,\n",
       ".sk-estimator-doc-link:hover,\n",
       "div.sk-label-container:hover .sk-estimator-doc-link:hover,\n",
       ".sk-estimator-doc-link:hover {\n",
       "  /* unfitted */\n",
       "  background-color: var(--sklearn-color-unfitted-level-3);\n",
       "  color: var(--sklearn-color-background);\n",
       "  text-decoration: none;\n",
       "}\n",
       "\n",
       "div.sk-estimator.fitted:hover .sk-estimator-doc-link.fitted:hover,\n",
       ".sk-estimator-doc-link.fitted:hover,\n",
       "div.sk-label-container:hover .sk-estimator-doc-link.fitted:hover,\n",
       ".sk-estimator-doc-link.fitted:hover {\n",
       "  /* fitted */\n",
       "  background-color: var(--sklearn-color-fitted-level-3);\n",
       "  color: var(--sklearn-color-background);\n",
       "  text-decoration: none;\n",
       "}\n",
       "\n",
       "/* Span, style for the box shown on hovering the info icon */\n",
       ".sk-estimator-doc-link span {\n",
       "  display: none;\n",
       "  z-index: 9999;\n",
       "  position: relative;\n",
       "  font-weight: normal;\n",
       "  right: .2ex;\n",
       "  padding: .5ex;\n",
       "  margin: .5ex;\n",
       "  width: min-content;\n",
       "  min-width: 20ex;\n",
       "  max-width: 50ex;\n",
       "  color: var(--sklearn-color-text);\n",
       "  box-shadow: 2pt 2pt 4pt #999;\n",
       "  /* unfitted */\n",
       "  background: var(--sklearn-color-unfitted-level-0);\n",
       "  border: .5pt solid var(--sklearn-color-unfitted-level-3);\n",
       "}\n",
       "\n",
       ".sk-estimator-doc-link.fitted span {\n",
       "  /* fitted */\n",
       "  background: var(--sklearn-color-fitted-level-0);\n",
       "  border: var(--sklearn-color-fitted-level-3);\n",
       "}\n",
       "\n",
       ".sk-estimator-doc-link:hover span {\n",
       "  display: block;\n",
       "}\n",
       "\n",
       "/* \"?\"-specific style due to the `<a>` HTML tag */\n",
       "\n",
       "#sk-container-id-1 a.estimator_doc_link {\n",
       "  float: right;\n",
       "  font-size: 1rem;\n",
       "  line-height: 1em;\n",
       "  font-family: monospace;\n",
       "  background-color: var(--sklearn-color-background);\n",
       "  border-radius: 1rem;\n",
       "  height: 1rem;\n",
       "  width: 1rem;\n",
       "  text-decoration: none;\n",
       "  /* unfitted */\n",
       "  color: var(--sklearn-color-unfitted-level-1);\n",
       "  border: var(--sklearn-color-unfitted-level-1) 1pt solid;\n",
       "}\n",
       "\n",
       "#sk-container-id-1 a.estimator_doc_link.fitted {\n",
       "  /* fitted */\n",
       "  border: var(--sklearn-color-fitted-level-1) 1pt solid;\n",
       "  color: var(--sklearn-color-fitted-level-1);\n",
       "}\n",
       "\n",
       "/* On hover */\n",
       "#sk-container-id-1 a.estimator_doc_link:hover {\n",
       "  /* unfitted */\n",
       "  background-color: var(--sklearn-color-unfitted-level-3);\n",
       "  color: var(--sklearn-color-background);\n",
       "  text-decoration: none;\n",
       "}\n",
       "\n",
       "#sk-container-id-1 a.estimator_doc_link.fitted:hover {\n",
       "  /* fitted */\n",
       "  background-color: var(--sklearn-color-fitted-level-3);\n",
       "}\n",
       "</style><div id=\"sk-container-id-1\" class=\"sk-top-container\"><div class=\"sk-text-repr-fallback\"><pre>LinearRegression()</pre><b>In a Jupyter environment, please rerun this cell to show the HTML representation or trust the notebook. <br />On GitHub, the HTML representation is unable to render, please try loading this page with nbviewer.org.</b></div><div class=\"sk-container\" hidden><div class=\"sk-item\"><div class=\"sk-estimator fitted sk-toggleable\"><input class=\"sk-toggleable__control sk-hidden--visually\" id=\"sk-estimator-id-1\" type=\"checkbox\" checked><label for=\"sk-estimator-id-1\" class=\"sk-toggleable__label fitted sk-toggleable__label-arrow fitted\">&nbsp;&nbsp;LinearRegression<a class=\"sk-estimator-doc-link fitted\" rel=\"noreferrer\" target=\"_blank\" href=\"https://scikit-learn.org/1.4/modules/generated/sklearn.linear_model.LinearRegression.html\">?<span>Documentation for LinearRegression</span></a><span class=\"sk-estimator-doc-link fitted\">i<span>Fitted</span></span></label><div class=\"sk-toggleable__content fitted\"><pre>LinearRegression()</pre></div> </div></div></div></div>"
      ],
      "text/plain": [
       "LinearRegression()"
      ]
     },
     "execution_count": 32,
     "metadata": {},
     "output_type": "execute_result"
    }
   ],
   "source": [
    "# Save the model\n",
    "from joblib import dump, load\n",
    "dump(mlp, 'mlp.joblib')\n",
    "dump(lr, 'lr.joblib')\n",
    "# Call the best model\n",
    "load('lr.joblib')\n"
   ]
  },
  {
   "cell_type": "code",
   "execution_count": 33,
   "metadata": {},
   "outputs": [],
   "source": [
    "y_predicted=mlp.predict(X.values)"
   ]
  },
  {
   "cell_type": "code",
   "execution_count": 34,
   "metadata": {},
   "outputs": [
    {
     "data": {
      "text/plain": [
       "array([[-0.04502907, -0.02925529],\n",
       "       [-0.04518866, -0.02945866],\n",
       "       [-0.04455027, -0.02864517],\n",
       "       [-0.04518866, -0.02945866],\n",
       "       [-0.04502907, -0.02925529],\n",
       "       [-0.04327349, -0.02701818],\n",
       "       [-0.04056033, -0.02356083],\n",
       "       [-0.03704918, -0.01908662],\n",
       "       [-0.03018649, -0.01034156],\n",
       "       [-0.01854058,  0.00455718],\n",
       "       [ 0.00443112,  0.03395795],\n",
       "       [ 0.04511018,  0.0860218 ],\n",
       "       [ 0.00155966,  0.03028285],\n",
       "       [ 0.00953595,  0.04049145],\n",
       "       [ 0.06518405,  0.11513795],\n",
       "       [ 0.15949603,  0.22728174],\n",
       "       [ 0.35220342,  0.45246935],\n",
       "       [ 0.28744338,  0.37892556],\n",
       "       [ 0.31602689,  0.41331452],\n",
       "       [ 0.2923931 ,  0.38923868],\n",
       "       [ 0.53895397,  0.67558031],\n",
       "       [ 0.43015841,  0.55486901],\n",
       "       [ 0.48784036,  0.61838667],\n",
       "       [ 0.54609175,  0.68133219],\n",
       "       [ 0.65586878,  0.79386667],\n",
       "       [ 0.66815579,  0.80877058],\n",
       "       [ 0.67307025,  0.8107939 ],\n",
       "       [ 0.7756712 ,  0.90502353],\n",
       "       [ 0.80850416,  0.93373822],\n",
       "       [ 0.80334683,  0.92640531],\n",
       "       [ 0.89984475,  1.01406791],\n",
       "       [ 0.98397681,  1.06723607],\n",
       "       [ 0.92772489,  1.02205368],\n",
       "       [ 0.83500939,  0.93429764],\n",
       "       [ 0.86402681,  0.93439028],\n",
       "       [ 0.89874697,  0.96267274],\n",
       "       [ 1.03177203,  1.03593372],\n",
       "       [ 0.98205936,  0.98065015],\n",
       "       [ 0.93018511,  0.92303662],\n",
       "       [ 0.92613864,  0.93361856],\n",
       "       [ 1.01800786,  1.02030147],\n",
       "       [ 1.01278562,  1.01274071]])"
      ]
     },
     "execution_count": 34,
     "metadata": {},
     "output_type": "execute_result"
    }
   ],
   "source": [
    "y_predicted"
   ]
  },
  {
   "cell_type": "code",
   "execution_count": 35,
   "metadata": {
    "scrolled": true
   },
   "outputs": [
    {
     "data": {
      "text/plain": [
       "array([[0.        , 0.        ],\n",
       "       [0.        , 0.        ],\n",
       "       [0.        , 0.        ],\n",
       "       [0.        , 0.        ],\n",
       "       [0.        , 0.        ],\n",
       "       [0.        , 0.        ],\n",
       "       [0.        , 0.        ],\n",
       "       [0.        , 0.        ],\n",
       "       [0.        , 0.        ],\n",
       "       [0.        , 0.        ],\n",
       "       [0.        , 0.        ],\n",
       "       [0.        , 0.        ],\n",
       "       [0.        , 0.        ],\n",
       "       [0.        , 0.        ],\n",
       "       [0.        , 0.        ],\n",
       "       [0.        , 0.        ],\n",
       "       [0.17898023, 0.22171113],\n",
       "       [0.23152966, 0.28426863],\n",
       "       [0.29552549, 0.3624655 ],\n",
       "       [0.37721124, 0.48114075],\n",
       "       [0.44068678, 0.57221711],\n",
       "       [0.50936524, 0.63661454],\n",
       "       [0.57284079, 0.72033119],\n",
       "       [0.6508845 , 0.7976081 ],\n",
       "       [0.68210198, 0.83624655],\n",
       "       [0.71852237, 0.86016559],\n",
       "       [0.73621228, 0.88868445],\n",
       "       [0.76690947, 0.90800368],\n",
       "       [0.77627471, 0.91536339],\n",
       "       [0.8074922 , 0.93560258],\n",
       "       [0.8673257 , 0.97700092],\n",
       "       [0.84599376, 0.93928243],\n",
       "       [0.86628512, 0.89972401],\n",
       "       [0.92924037, 0.97792088],\n",
       "       [0.94120708, 1.        ],\n",
       "       [0.94693028, 0.96780129],\n",
       "       [0.96462019, 0.95676173],\n",
       "       [0.95993757, 0.93284269],\n",
       "       [0.98543184, 0.96964121],\n",
       "       [1.        , 0.94848206],\n",
       "       [0.99323621, 0.95032199],\n",
       "       [0.97034339, 0.92548298]])"
      ]
     },
     "execution_count": 35,
     "metadata": {},
     "output_type": "execute_result"
    }
   ],
   "source": [
    "y.values"
   ]
  },
  {
   "cell_type": "code",
   "execution_count": 47,
   "metadata": {},
   "outputs": [
    {
     "ename": "NameError",
     "evalue": "name 'y_test_scaled' is not defined",
     "output_type": "error",
     "traceback": [
      "\u001b[1;31m---------------------------------------------------------------------------\u001b[0m",
      "\u001b[1;31mNameError\u001b[0m                                 Traceback (most recent call last)",
      "Cell \u001b[1;32mIn[47], line 8\u001b[0m\n\u001b[0;32m      5\u001b[0m plt\u001b[38;5;241m.\u001b[39mscatter(X_train_scaled[:, \u001b[38;5;241m1\u001b[39m], y_train_scaled[:, \u001b[38;5;241m1\u001b[39m], color\u001b[38;5;241m=\u001b[39m\u001b[38;5;124m'\u001b[39m\u001b[38;5;124mred\u001b[39m\u001b[38;5;124m'\u001b[39m, label\u001b[38;5;241m=\u001b[39m\u001b[38;5;124m'\u001b[39m\u001b[38;5;124mEğitim Verisi (Entübe)\u001b[39m\u001b[38;5;124m'\u001b[39m)\n\u001b[0;32m      7\u001b[0m \u001b[38;5;66;03m# Test verilerini görselleştirme\u001b[39;00m\n\u001b[1;32m----> 8\u001b[0m plt\u001b[38;5;241m.\u001b[39mscatter(X_test_scaled[:, \u001b[38;5;241m0\u001b[39m], \u001b[43my_test_scaled\u001b[49m[:, \u001b[38;5;241m0\u001b[39m], color\u001b[38;5;241m=\u001b[39m\u001b[38;5;124m'\u001b[39m\u001b[38;5;124mgreen\u001b[39m\u001b[38;5;124m'\u001b[39m, label\u001b[38;5;241m=\u001b[39m\u001b[38;5;124m'\u001b[39m\u001b[38;5;124mTest Verisi (Yoğun Bakım)\u001b[39m\u001b[38;5;124m'\u001b[39m)\n\u001b[0;32m      9\u001b[0m plt\u001b[38;5;241m.\u001b[39mscatter(X_test_scaled[:, \u001b[38;5;241m1\u001b[39m], y_test_scaled[:, \u001b[38;5;241m1\u001b[39m], color\u001b[38;5;241m=\u001b[39m\u001b[38;5;124m'\u001b[39m\u001b[38;5;124morange\u001b[39m\u001b[38;5;124m'\u001b[39m, label\u001b[38;5;241m=\u001b[39m\u001b[38;5;124m'\u001b[39m\u001b[38;5;124mTest Verisi (Entübe)\u001b[39m\u001b[38;5;124m'\u001b[39m)\n\u001b[0;32m     11\u001b[0m plt\u001b[38;5;241m.\u001b[39mtitle(\u001b[38;5;124m'\u001b[39m\u001b[38;5;124mÖlçeklendirilmiş Veriler\u001b[39m\u001b[38;5;124m'\u001b[39m)\n",
      "\u001b[1;31mNameError\u001b[0m: name 'y_test_scaled' is not defined"
     ]
    },
    {
     "data": {
      "image/png": "[encoded data removed]",
      "text/plain": [
       "<Figure size 1000x600 with 1 Axes>"
      ]
     },
     "metadata": {},
     "output_type": "display_data"
    }
   ],
   "source": [
    "plt.figure(figsize=(10, 6))\n",
    "\n",
    "# Eğitim verilerini görselleştirme\n",
    "plt.scatter(X_train_scaled[:, 0], y_train_scaled[:, 0], color='blue', label='Eğitim Verisi (Yoğun Bakım)')\n",
    "plt.scatter(X_train_scaled[:, 1], y_train_scaled[:, 1], color='red', label='Eğitim Verisi (Entübe)')\n",
    "\n",
    "# Test verilerini görselleştirme\n",
    "plt.scatter(X_test_scaled[:, 0], y_test_scaled[:, 0], color='green', label='Test Verisi (Yoğun Bakım)')\n",
    "plt.scatter(X_test_scaled[:, 1], y_test_scaled[:, 1], color='orange', label='Test Verisi (Entübe)')\n",
    "\n",
    "plt.title('Ölçeklendirilmiş Veriler')\n",
    "plt.xlabel('Özellikler (Ölçeklendirilmiş)')\n",
    "plt.ylabel('Hedef Değişkenler (Ölçeklendirilmiş)')\n",
    "plt.legend()\n",
    "plt.grid(True)\n",
    "plt.show()\n",
    "\n"
   ]
  },
  {
   "cell_type": "code",
   "execution_count": null,
   "metadata": {},
   "outputs": [],
   "source": []
  }
 ],
 "metadata": {
  "kernelspec": {
   "display_name": "Python 3 (ipykernel)",
   "language": "python",
   "name": "python3"
  },
  "language_info": {
   "codemirror_mode": {
    "name": "ipython",
    "version": 3
   },
   "file_extension": ".py",
   "mimetype": "text/x-python",
   "name": "python",
   "nbconvert_exporter": "python",
   "pygments_lexer": "ipython3",
   "version": "3.12.3"
  },
  "varInspector": {
   "cols": {
    "lenName": 16,
    "lenType": 16,
    "lenVar": 40
   },
   "kernels_config": {
    "python": {
     "delete_cmd_postfix": "",
     "delete_cmd_prefix": "del ",
     "library": "var_list.py",
     "varRefreshCmd": "print(var_dic_list())"
    },
    "r": {
     "delete_cmd_postfix": ") ",
     "delete_cmd_prefix": "rm(",
     "library": "var_list.r",
     "varRefreshCmd": "cat(var_dic_list()) "
    }
   },
   "position": {
    "height": "469px",
    "left": "715.8px",
    "right": "20px",
    "top": "28px",
    "width": "549px"
   },
   "types_to_exclude": [
    "module",
    "function",
    "builtin_function_or_method",
    "instance",
    "_Feature"
   ],
   "window_display": false
  }
 },
 "nbformat": 4,
 "nbformat_minor": 4
}
